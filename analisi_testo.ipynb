{
 "cells": [
  {
   "cell_type": "markdown",
   "id": "fcd451b9",
   "metadata": {},
   "source": [
    "# basic text frequency analysis"
   ]
  },
  {
   "cell_type": "code",
   "execution_count": 1,
   "id": "2cf09c85",
   "metadata": {},
   "outputs": [],
   "source": [
    "import numpy as np\n",
    "import pandas as pd\n",
    "import seaborn as sns\n",
    "import tqdm as tq\n",
    "import re\n",
    "import spacy as sp\n",
    "import nltk as nk\n",
    "from collections import Counter\n",
    "import scipy.sparse as scsp\n",
    "#nltk.download('all')"
   ]
  },
  {
   "cell_type": "code",
   "execution_count": 2,
   "id": "3c2c04a7",
   "metadata": {},
   "outputs": [],
   "source": [
    "#!python -m spacy download en_core_web_sm\n",
    "#!python -m spacy download it_core_news_sm"
   ]
  },
  {
   "cell_type": "code",
   "execution_count": 3,
   "id": "7f15765b",
   "metadata": {},
   "outputs": [
    {
     "name": "stdout",
     "output_type": "stream",
     "text": [
      "Index(['0', 'nomeAtto', 'atto', 'data', 'numArttAtto', 'idArt', 'testoArt'], dtype='object')\n",
      "(18718, 7)\n"
     ]
    }
   ],
   "source": [
    "dati = pd.read_csv('data_examples\\codici040I.csv', sep=';')\n",
    "\n",
    "print(dati.columns)\n",
    "print(dati.shape)"
   ]
  },
  {
   "cell_type": "code",
   "execution_count": 4,
   "id": "09e4568a",
   "metadata": {},
   "outputs": [
    {
     "name": "stdout",
     "output_type": "stream",
     "text": [
      "                                    Art. 4.   La  Repubblica riconosce a tutti i cittadini il diritto al lavoro e promuove le condizioni che rendano effettivo questo diritto.   Ogni  cittadino  ha  il  dovere  di  svolgere,  secondo  le proprie possibilita'  e  la  propria  scelta, un'attivita' o una funzione che concorra al progresso materiale o spirituale della societa'.      \n",
      "\n",
      "\n",
      "\n",
      "\n",
      "(5,)\n",
      "['                                    Art' ' 4'\n",
      " '   La  Repubblica riconosce a tutti i cittadini il diritto al lavoro e promuove le condizioni che rendano effettivo questo diritto'\n",
      " \"   Ogni  cittadino  ha  il  dovere  di  svolgere,  secondo  le proprie possibilita'  e  la  propria  scelta, un'attivita' o una funzione che concorra al progresso materiale o spirituale della societa'\"\n",
      " '      ']\n"
     ]
    }
   ],
   "source": [
    "testi = np.array(dati['testoArt'])\n",
    "testo = testi[3]\n",
    "\n",
    "print(testo)\n",
    "print('\\n\\n\\n')\n",
    "frasi = np.array(testo.split('.'))\n",
    "frasi\n",
    "print(frasi.shape)\n",
    "print(frasi)"
   ]
  },
  {
   "cell_type": "code",
   "execution_count": 5,
   "id": "5ce4e193",
   "metadata": {},
   "outputs": [
    {
     "name": "stdout",
     "output_type": "stream",
     "text": [
      "   La  Repubblica riconosce a tutti i cittadini il diritto al lavoro e promuove le condizioni che rendano effettivo questo diritto\n",
      "['La', 'Repubblica', 'riconosce', 'a', 'tutti', 'i', 'cittadini', 'il', 'diritto', 'al', 'lavoro', 'e', 'promuove', 'le', 'condizioni', 'che', 'rendano', 'effettivo', 'questo', 'diritto']\n"
     ]
    }
   ],
   "source": [
    "frase = frasi[2]\n",
    "print(frase)\n",
    "print(nk.word_tokenize(frase, language='italian'))"
   ]
  },
  {
   "cell_type": "code",
   "execution_count": null,
   "id": "25abbb50",
   "metadata": {},
   "outputs": [],
   "source": [
    "def tokenizer(docs, type='split', lower=False, spacy_model ='en_core_web_sm', \n",
    "              regex_cmd=r'\\b\\w+\\b', nltk_language='english', spacy_lemma=False):\n",
    "\n",
    "    \"\"\"\n",
    "    docs: list of strings, the documents of the corpus\n",
    "    type: str, can be split, regex, nltk or spacy, in order of descending speed and ascending accuracy\n",
    "    lower: bool, if the text should be converted to lowercase, default false\n",
    "    spacy_model: str, the model that spacy will call if type='spacy'. Default en_core_web_sm for english language.\n",
    "    To download the model call from the terminal\n",
    "    python -m spacy download en_core_web_sm\n",
    "    regex_cmd: str, default r'\\b\\w+\\b'\n",
    "    is the command that goes in re.findall, that select as tokens the text that matches the regex command\n",
    "    nltk_language: str, default 'english'\n",
    "    the language that nltk uses in word_tokenize. To use this you need to run once nltk.download('all') in your venv\n",
    "    spacy_lemma: bool, default false,\n",
    "    if type='spacy' then if spacy_lemma get the lemmatized token, otherwise get text\n",
    "    \"\"\"\n",
    "\n",
    "    if lower:\n",
    "        docs = [d.lower() for d in tq.tqdm(docs)]\n",
    "        print('all text is now lowercase')\n",
    "\n",
    "    if (type=='split'):\n",
    "        tok_docs = [d.split() for d in tq.tqdm(docs)]\n",
    "\n",
    "    if (type=='regex'):\n",
    "        tok_docs = [re.findall(regex_cmd, d) for d in tq.tqdm(docs)]\n",
    "\n",
    "    if (type=='nltk'):\n",
    "        tok_docs = [nk.word_tokenize(d, language=nltk_language) for d in tq.tqdm(docs)]\n",
    "    \n",
    "    if (type=='spacy'):\n",
    "        nlp = sp.load(spacy_model, disable=['tagger', 'parser', 'ner'])\n",
    "        if (spacy_lemma):\n",
    "            tok_docs = [ [token.lemma_ for token in nlp(d)] for d in tq.tqdm(docs) ]\n",
    "        else:\n",
    "            tok_docs = [ [token.text for token in nlp(d)] for d in tq.tqdm(docs) ]\n",
    "\n",
    "    return tok_docs\n",
    "\n",
    "\n",
    "def tok_docs2vocab(tok_docs, freqs=False, rm_numbers = True, verbose=True, min_freq=10, mergelists = True):\n",
    "    \"\"\"\n",
    "    build the vocabulary from a tokenized corpus\n",
    "    tok_docs: list of documents, were each document is a numpy array of tokens\n",
    "    returns a numpy array of tokens, that is the vocabulary\n",
    "    freqs: bool : if the tokens frequency should be return. \n",
    "    This requires a computational cost and in general slows the execution. Default False.\n",
    "    verbose: bool : if the number of unique tokens should be printed\n",
    "    min_freq: int : if freqs is True then only the tokens with frequency greater or equal to min_freq are returned\n",
    "    mergelists: bool : if the lists inside tok_docs should be concatenated into one. Convenient when freqs is True.\n",
    "    \"\"\"\n",
    "\n",
    "    def list_merge(list_of_lists):\n",
    "        flat_list = []\n",
    "        out = [flat_list.extend(new) for new in tq.tqdm(list_of_lists)]\n",
    "        #m = list(map(flat_list.extend, list_of_lists))\n",
    "        return flat_list\n",
    "\n",
    "    \n",
    "\n",
    "    if (freqs):\n",
    "        if (mergelists):\n",
    "            tok_docs = list_merge(tok_docs)\n",
    "            U = np.unique(tok_docs, return_counts=True)\n",
    "        else:\n",
    "            U = np.unique(np.concatenate(tuple([np.array(doc) for doc in tq.tqdm(tok_docs)])), return_counts=True)\n",
    "\n",
    "        tok_vocab = U[0]\n",
    "        counts = U[1]\n",
    "    else:\n",
    "        if mergelists:\n",
    "            tok_docs = list_merge(tok_docs)\n",
    "            vocab_set = set(tok_docs)\n",
    "        else:\n",
    "            vocab_set = set()\n",
    "            for doc in tq.tqdm(tok_docs):\n",
    "                vocab_set.update(doc)\n",
    "        \n",
    "        tok_vocab = np.array(sorted(list(vocab_set)))\n",
    "\n",
    "\n",
    "    if (freqs):\n",
    "        filt = np.where(counts>=min_freq)\n",
    "        tok_vocab = tok_vocab[filt]\n",
    "        counts = counts[filt]\n",
    "\n",
    "    if (rm_numbers):\n",
    "        contains_num = np.vectorize(lambda x: bool(re.search('\\d' , x)))\n",
    "        contains_letter = np.vectorize(lambda x: bool(re.search('[a-zA-Z]' , x)))\n",
    "        filt = np.where(np.logical_and(np.logical_not(contains_num(tok_vocab)), contains_letter(tok_vocab)))\n",
    "        tok_vocab = tok_vocab[filt]\n",
    "        if (freqs):\n",
    "            counts = counts[filt]\n",
    "\n",
    "    if (verbose):\n",
    "        print('vocab size: '+ str(tok_vocab.size))\n",
    "\n",
    "    if (freqs):\n",
    "        return tok_vocab, counts\n",
    "    else:\n",
    "        return tok_vocab\n",
    "    \n",
    "\n",
    "def sparse_DTM(tok_docs, tok_vocab=None):\n",
    "    \"\"\"\n",
    "    Build a Document Term Matrix efficiently using sparse matrices.\n",
    "    \n",
    "    Args:\n",
    "        tokenized_docs: List of lists, where each inner list contains tokens for a document\n",
    "        vocabulary: Optional list of tokens to use as vocabulary. If None, extracts from docs.\n",
    "    \n",
    "    Returns:\n",
    "        DTM matrix as pandas dataframe\n",
    "    \"\"\"\n",
    "    if tok_vocab is None:\n",
    "        tok_vocab = tok_docs2vocab(tok_docs)\n",
    "\n",
    "    n_docs = len(tok_docs)\n",
    "    n_vocab = len(tok_vocab)\n",
    "\n",
    "    # Create word to index mapping\n",
    "    word_to_idx = {word: idx for idx, word in enumerate(tok_vocab)}\n",
    "    \n",
    "    # Use lists for sparse matrix construction\n",
    "    row_indices = []\n",
    "    col_indices = []\n",
    "    data = []\n",
    "    \n",
    "    # Process each document\n",
    "    for doc_idx, doc_tokens in enumerate(tok_docs):\n",
    "        # Count term frequencies in document\n",
    "        term_counts = Counter(doc_tokens)\n",
    "        \n",
    "        # Add non-zero entries to sparse matrix data\n",
    "        for term, count in term_counts.items():\n",
    "            if term in word_to_idx:  # Only include terms in vocabulary\n",
    "                row_indices.append(doc_idx)\n",
    "                col_indices.append(word_to_idx[term])\n",
    "                data.append(count)\n",
    "    \n",
    "    # Create sparse matrix\n",
    "    dtm = scsp.csr_matrix((data, (row_indices, col_indices)), shape=(n_docs, n_vocab)).toarray()\n",
    "    dtm = pd.DataFrame(dtm)\n",
    "    dtm.columns = tok_vocab\n",
    "\n",
    "    return dtm\n",
    "\n",
    "\n",
    "def dense_DTM(tok_docs, tok_vocab=None):\n",
    "    \"\"\"\n",
    "    This is a stupid and slow function, sparse_DTM is often better for computational efficiency\n",
    "    Returns the document term matrix as pandas dataframe\n",
    "    tok_docs is a list of lists, or numpy arrays, containing the tokenized documents\n",
    "    tok_vocab is the list of tokens that have to be counted inside the dtm.\n",
    "    tok_docs: list[list[str]]\n",
    "    tok_vocab: list[str]\n",
    "    \"\"\"\n",
    "\n",
    "    N = len(tok_docs)\n",
    "\n",
    "    if tok_vocab is None:\n",
    "        tok_vocab = np.unique(np.concatenate(tuple([np.array(doc) for doc in tq.tqdm(tok_docs)])))\n",
    "\n",
    "    voc = np.array(tok_vocab)\n",
    "    W = voc.shape[0]\n",
    "    dtm = np.empty([N,W])\n",
    "\n",
    "    for i in tq.trange(N):\n",
    "        for j in range(W):\n",
    "            dtm[i,j] = tok_docs[i].count(tok_vocab[j])\n",
    "\n",
    "    dtm = pd.DataFrame(dtm)\n",
    "    dtm.columns = tok_vocab\n",
    "\n",
    "    return dtm\n"
   ]
  },
  {
   "cell_type": "code",
   "execution_count": null,
   "id": "e9dd814e",
   "metadata": {},
   "outputs": [
    {
     "name": "stdout",
     "output_type": "stream",
     "text": [
      "   alghe  amano  anna  buona  buone  gatti  gentile  i  le  maria  pesci  \\\n",
      "0      0      0     1      1      0      0        1  0   0      1      0   \n",
      "1      0      1     0      0      0      1        0  2   0      0      1   \n",
      "2      2      1     0      0      1      0        0  1   2      0      1   \n",
      "\n",
      "   sono  è  \n",
      "0     0  2  \n",
      "1     0  0  \n",
      "2     1  0  \n"
     ]
    }
   ],
   "source": [
    "from sklearn.feature_extraction.text import CountVectorizer\n",
    "import pandas as pd\n",
    "\n",
    "def vec_DTM(docs, lower=True, token_pattern=r'(?u)\\b\\w+\\b', max_df = 1.0, min_df=0):\n",
    "    max_df = float(max_df)\n",
    "    min_df = float(min_df)\n",
    "\n",
    "    vectorizer = CountVectorizer(max_df=max_df, min_df=min_df, lowercase=lower, token_pattern=token_pattern)\n",
    "    vectorizer.fit(docs)\n",
    "    vocabulary = vectorizer.get_feature_names_out()\n",
    "    dtm = pd.DataFrame(vectorizer.transform(docs).toarray())\n",
    "    dtm.columns = vocabulary\n",
    "    return dtm\n",
    "\n",
    "\n",
    "\n",
    "docs = ['Maria è buona. Anna è gentile.','I gatti amano i pesci', 'I pesci amano le alghe. Le alghe sono buone']\n",
    "\n",
    "dtm = vec_DTM(docs)\n",
    "print(dtm)"
   ]
  },
  {
   "cell_type": "code",
   "execution_count": 7,
   "id": "ce1be978",
   "metadata": {},
   "outputs": [
    {
     "name": "stdout",
     "output_type": "stream",
     "text": [
      "[2 1 2]\n"
     ]
    }
   ],
   "source": [
    "vec = np.array(['a', 'c', 'c', 'a', 'b'])\n",
    "print(np.unique(vec, return_counts=True)[1])"
   ]
  },
  {
   "cell_type": "code",
   "execution_count": 8,
   "id": "e49a148a",
   "metadata": {},
   "outputs": [
    {
     "name": "stderr",
     "output_type": "stream",
     "text": [
      "  0%|          | 0/18718 [00:00<?, ?it/s]"
     ]
    },
    {
     "name": "stderr",
     "output_type": "stream",
     "text": [
      "100%|██████████| 18718/18718 [00:00<00:00, 56892.50it/s]\n"
     ]
    },
    {
     "name": "stdout",
     "output_type": "stream",
     "text": [
      "all text is now lowercase\n"
     ]
    },
    {
     "name": "stderr",
     "output_type": "stream",
     "text": [
      "100%|██████████| 18718/18718 [00:02<00:00, 6697.54it/s]\n"
     ]
    }
   ],
   "source": [
    "tok_docs = tokenizer(testi, type='regex', lower=True)"
   ]
  },
  {
   "cell_type": "code",
   "execution_count": 79,
   "id": "5023e2b6",
   "metadata": {},
   "outputs": [
    {
     "name": "stderr",
     "output_type": "stream",
     "text": [
      "100%|██████████| 18718/18718 [00:00<00:00, 53790.33it/s]\n"
     ]
    },
    {
     "name": "stdout",
     "output_type": "stream",
     "text": [
      "vocab size: 9879\n",
      "['a' 'aa' 'aap' ... 'zolfo' 'zona' 'zone']\n"
     ]
    }
   ],
   "source": [
    "tok_vocab, tok_freqs = tok_docs2vocab(tok_docs, freqs=True, min_freq=10, mergelists=True)\n",
    "#tok_vocab = tok_docs2vocab(tok_docs, freqs=False, mergelists=False)\n",
    "print(tok_vocab)"
   ]
  },
  {
   "cell_type": "code",
   "execution_count": 10,
   "id": "67112d4e",
   "metadata": {},
   "outputs": [
    {
     "name": "stdout",
     "output_type": "stream",
     "text": [
      "Help on function tok_docs2vocab in module __main__:\n",
      "\n",
      "tok_docs2vocab(tok_docs, freqs=False, rm_numbers=True, verbose=True, min_freq=10)\n",
      "    build the vocabulary from a tokenized corpus\n",
      "    tok_docs: list of documents, were each document is a numpy array of tokens\n",
      "    returns a numpy array of tokens, that is the vocabulary\n",
      "    freqs: bool : if the tokens frequency should be return. \n",
      "    This requires a computational cost and in general slows the execution. Default False.\n",
      "    verbose: bool : if the number of unique tokens should be printed\n",
      "    min_freq: int : if freqs is True then only the tokens with frequency greater or equal to min_freq are returned\n",
      "\n"
     ]
    }
   ],
   "source": [
    "help(tok_docs2vocab)"
   ]
  },
  {
   "cell_type": "code",
   "execution_count": 80,
   "id": "03bde9d7",
   "metadata": {},
   "outputs": [],
   "source": [
    "dtm = sparse_DTM(tok_docs, tok_vocab)"
   ]
  },
  {
   "cell_type": "code",
   "execution_count": 81,
   "id": "8124f632",
   "metadata": {},
   "outputs": [
    {
     "name": "stdout",
     "output_type": "stream",
     "text": [
      "(18718, 9879)\n"
     ]
    }
   ],
   "source": [
    "print(dtm.shape)\n",
    "#somme = dtm.sum(axis=0)\n",
    "#print(somme.shape)\n",
    "#print(somme.describe)"
   ]
  },
  {
   "cell_type": "code",
   "execution_count": 82,
   "id": "aaae1f8b",
   "metadata": {},
   "outputs": [
    {
     "name": "stdout",
     "output_type": "stream",
     "text": [
      "(9879, 2)\n"
     ]
    },
    {
     "data": {
      "text/plain": [
       "count      9879.000000\n",
       "mean        313.853528\n",
       "std        2715.928905\n",
       "min          10.000000\n",
       "25%          18.000000\n",
       "50%          38.000000\n",
       "75%         118.000000\n",
       "max      152383.000000\n",
       "Name: freq, dtype: float64"
      ]
     },
     "execution_count": 82,
     "metadata": {},
     "output_type": "execute_result"
    }
   ],
   "source": [
    "freq_data = pd.DataFrame({'nomi': tok_vocab, 'freq': tok_freqs})\n",
    "print(freq_data.shape)\n",
    "freq_data = freq_data.sort_values('freq', ascending=False)\n",
    "freq_data['freq'].describe()"
   ]
  },
  {
   "cell_type": "code",
   "execution_count": 46,
   "id": "c7d2fd08",
   "metadata": {},
   "outputs": [
    {
     "name": "stderr",
     "output_type": "stream",
     "text": [
      "C:\\Users\\feder\\AppData\\Local\\Temp\\ipykernel_14848\\2395987484.py:5: UserWarning: set_ticklabels() should only be used with a fixed number of ticks, i.e. after set_ticks() or using a FixedLocator.\n",
      "  labs = myplot.set_yticklabels(myplot.get_yticklabels(), fontsize=5)\n"
     ]
    },
    {
     "data": {
      "image/png": "[encoded data removed]",
      "text/plain": [
       "<Figure size 640x480 with 1 Axes>"
      ]
     },
     "metadata": {},
     "output_type": "display_data"
    }
   ],
   "source": [
    "#sns.set_context(font_scale=0.2)\n",
    "#myplot = sns.barplot(freq_data[0:40], x='freq', y='nomi')\n",
    "#myplot.set_yticklabels(myplot.get_yticklabels(), fontsize=1)\n",
    "myplot = sns.barplot(freq_data[0:40], x='freq', y='nomi')\n",
    "labs = myplot.set_yticklabels(myplot.get_yticklabels(), fontsize=5)"
   ]
  },
  {
   "cell_type": "markdown",
   "id": "7d8ccf07",
   "metadata": {},
   "source": [
    "## Zipf Distribution vs empirical distribution"
   ]
  },
  {
   "cell_type": "code",
   "execution_count": 39,
   "id": "19be38ba",
   "metadata": {},
   "outputs": [
    {
     "name": "stdout",
     "output_type": "stream",
     "text": [
      "count      9879.000000\n",
      "mean        313.853528\n",
      "std        2715.928905\n",
      "min          10.000000\n",
      "25%          18.000000\n",
      "50%          38.000000\n",
      "75%         118.000000\n",
      "max      152383.000000\n",
      "Name: freq, dtype: float64\n",
      "152383\n"
     ]
    },
    {
     "data": {
      "image/png": "[encoded data removed]",
      "text/plain": [
       "<Figure size 500x500 with 1 Axes>"
      ]
     },
     "metadata": {},
     "output_type": "display_data"
    },
    {
     "data": {
      "image/png": "[encoded data removed]",
      "text/plain": [
       "<Figure size 500x500 with 1 Axes>"
      ]
     },
     "metadata": {},
     "output_type": "display_data"
    }
   ],
   "source": [
    "## zipf distribution under log\n",
    "vec = freq_data['freq']\n",
    "c = vec.max()\n",
    "zipf = c/np.arange(1, len(vec)+1)\n",
    "sns.displot(np.log(vec), bins=50)\n",
    "sns.displot(np.log(zipf), bins=50)\n",
    "print(pd.Series(vec).describe())\n",
    "print(c)"
   ]
  },
  {
   "cell_type": "code",
   "execution_count": 47,
   "id": "b92912be",
   "metadata": {},
   "outputs": [
    {
     "name": "stdout",
     "output_type": "stream",
     "text": [
      "Index(['aa', 'aap', 'abbagliamento', 'abbandona', 'abbandonare', 'abbandonati',\n",
      "       'abbandonato', 'abbandono', 'abbattimento', 'abbia',\n",
      "       ...\n",
      "       'inutilizzabili', 'inutilizzabilita', 'inutilmente', 'invalidanti',\n",
      "       'invalide', 'invalidi', 'invalidita', 'invarianza', 'invasi', 'invaso'],\n",
      "      dtype='object', length=4999)\n"
     ]
    }
   ],
   "source": [
    "nomi = dtm.columns\n",
    "print(nomi[1:5000])"
   ]
  },
  {
   "cell_type": "markdown",
   "id": "9a440073",
   "metadata": {},
   "source": [
    "## regex"
   ]
  },
  {
   "cell_type": "code",
   "execution_count": 52,
   "id": "0f02fe6f",
   "metadata": {},
   "outputs": [],
   "source": [
    "import re\n",
    "tok_docs = [re.findall(r'\\b\\w+\\b', doc.lower()) for doc in testi]"
   ]
  },
  {
   "cell_type": "code",
   "execution_count": 57,
   "id": "f99107c7",
   "metadata": {},
   "outputs": [
    {
     "name": "stdout",
     "output_type": "stream",
     "text": [
      "                        IL CAPO PROVVISORIO DELLO STATO   Vista la deliberazione dell'Assemblea Costituente, che nella seduta del  22  dicembre  1947 ha approvato la Costituzione della Repubblica Italiana.   Vista la XVIII disposizione finale della Costituzione.                               PROMULGA   la Costituzione della Repubblica Italiana nel seguente testo:                                Art. 1.   L'Italia e' una Repubblica democratica, fondata sul lavoro.   La  sovranita'  appartiene al popolo, che la esercita nelle forme e nei limiti della Costituzione.      \n",
      "['', 'IL', 'CAPO', 'PROVVISORIO', 'DELLO', 'STATO', 'Vista', 'la', 'deliberazione', \"dell'Assemblea\", 'Costituente,', 'che', 'nella', 'seduta', 'del', '22', 'dicembre', '1947', 'ha', 'approvato', 'la', 'Costituzione', 'della', 'Repubblica', 'Italiana.', 'Vista', 'la', 'XVIII', 'disposizione', 'finale', 'della', 'Costituzione.', 'PROMULGA', 'la', 'Costituzione', 'della', 'Repubblica', 'Italiana', 'nel', 'seguente', 'testo:', 'Art.', '1.', \"L'Italia\", \"e'\", 'una', 'Repubblica', 'democratica,', 'fondata', 'sul', 'lavoro.', 'La', \"sovranita'\", 'appartiene', 'al', 'popolo,', 'che', 'la', 'esercita', 'nelle', 'forme', 'e', 'nei', 'limiti', 'della', 'Costituzione.', '']\n"
     ]
    }
   ],
   "source": [
    "##split texts\n",
    "testo = testi[0]\n",
    "print(testo)\n",
    "tokens = re.split('\\s+', testo)\n",
    "print(tokens)"
   ]
  },
  {
   "cell_type": "code",
   "execution_count": 61,
   "id": "9135765d",
   "metadata": {},
   "outputs": [
    {
     "name": "stdout",
     "output_type": "stream",
     "text": [
      "67\n",
      "67\n",
      "[False, False, False, False, False, False, False, False, False, False, False, False, False, False, False, True, False, True, False, False, False, False, False, False, False, False, False, False, False, False, False, False, False, False, False, False, False, False, False, False, False, False, True, False, False, False, False, False, False, False, False, False, False, False, False, False, False, False, False, False, False, False, False, False, False, False, False]\n"
     ]
    }
   ],
   "source": [
    "trova = [bool(re.search('\\d', tok)) for tok in tokens]\n",
    "print(len(tokens))\n",
    "print(len(trova))\n",
    "print(trova)"
   ]
  },
  {
   "cell_type": "markdown",
   "id": "60961205",
   "metadata": {},
   "source": [
    "## spacy"
   ]
  },
  {
   "cell_type": "code",
   "execution_count": null,
   "id": "db083cf9",
   "metadata": {},
   "outputs": [],
   "source": [
    "import spacy\n",
    "nlp = spacy.load('it_core_news_sm', disable=['tagger', 'parser', 'ner'])\n",
    "tok_docs = [ [token.text for token in nlp(doc)] for doc in testi ]"
   ]
  },
  {
   "cell_type": "markdown",
   "id": "5e64ba55",
   "metadata": {},
   "source": [
    "## nltk"
   ]
  },
  {
   "cell_type": "markdown",
   "id": "6cd9151c",
   "metadata": {},
   "source": [
    "# trash"
   ]
  },
  {
   "cell_type": "code",
   "execution_count": null,
   "id": "adaae9a0",
   "metadata": {},
   "outputs": [
    {
     "name": "stdout",
     "output_type": "stream",
     "text": [
      "[3, 2, 3, 3, 2, 1]\n"
     ]
    }
   ],
   "source": [
    "li = ['a', 'b', 'a', 'a', 'b', 'c']\n",
    "co = Counter(li)\n",
    "print(co)\n",
    "print(co['a'])\n",
    "print([co[j] for j in li])\n",
    "print(list(map(co.get, li)))"
   ]
  },
  {
   "cell_type": "code",
   "execution_count": null,
   "id": "0834f14c",
   "metadata": {},
   "outputs": [
    {
     "name": "stdout",
     "output_type": "stream",
     "text": [
      "[                        , IL, CAPO, PROVVISORIO, DELLO, STATO,   , Vista, la, deliberazione, dell', Assemblea, Costituente, ,, che, nella, seduta, del,  , 22,  , dicembre,  , 1947, ha, approvato, la, Costituzione, della, Repubblica, Italiana, .,   , Vista, la, XVIII, disposizione, finale, della, Costituzione, .,                               , PROMULGA,   , la, Costituzione, della, Repubblica, Italiana, nel, seguente, testo, :,                                , Art., 1, .,   , L', Italia, e, ', una, Repubblica, democratica, ,, fondata, sul, lavoro, .,   , La,  , sovranita, ',  , appartiene, al, popolo, ,, che, la, esercita, nelle, forme, e, nei, limiti, della, Costituzione, .,      ]\n",
      "['                        ', 'IL', 'CAPO', 'PROVVISORIO', 'DELLO', 'STATO', '  ', 'Vista', 'la', 'deliberazione', \"dell'\", 'Assemblea', 'Costituente', ',', 'che', 'nella', 'seduta', 'del', ' ', '22', ' ', 'dicembre', ' ', '1947', 'ha', 'approvato', 'la', 'Costituzione', 'della', 'Repubblica', 'Italiana', '.', '  ', 'Vista', 'la', 'XVIII', 'disposizione', 'finale', 'della', 'Costituzione', '.', '                              ', 'PROMULGA', '  ', 'la', 'Costituzione', 'della', 'Repubblica', 'Italiana', 'nel', 'seguente', 'testo', ':', '                               ', 'Art.', '1', '.', '  ', \"L'\", 'Italia', 'e', \"'\", 'una', 'Repubblica', 'democratica', ',', 'fondata', 'sul', 'lavoro', '.', '  ', 'La', ' ', 'sovranita', \"'\", ' ', 'appartiene', 'al', 'popolo', ',', 'che', 'la', 'esercita', 'nelle', 'forme', 'e', 'nei', 'limiti', 'della', 'Costituzione', '.', '     ']\n"
     ]
    }
   ],
   "source": [
    "nlp = sp.load('it_core_news_sm')#, disable=['tagger', 'parser', 'ner'])\n",
    "res = nlp(testi[0])\n",
    "print([token for token in res])\n",
    "print([token.text for token in res])"
   ]
  },
  {
   "cell_type": "code",
   "execution_count": null,
   "id": "d50d51bc",
   "metadata": {},
   "outputs": [],
   "source": [
    "def spacy_token_view(spacy_token):\n",
    "    token = spacy_token\n",
    "    print(f\"Text: {token.text}\")\n",
    "    print(f\"Lemma: {token.lemma_}\")\n",
    "    print(f\"POS: {token.pos_}\")\n",
    "    print(f\"Tag: {token.tag_}\")\n",
    "    print(f\"Dependency: {token.dep_}\")\n",
    "    print(f\"Morphology: {token.morph}\")\n",
    "    print(f\"Is alpha: {token.is_alpha}\")\n",
    "    print(f\"Is stop word: {token.is_stop}\")\n",
    "    print(f\"Is punctuation: {token.is_punct}\")\n",
    "    print(f\"Shape: {token.shape_}\")\n",
    "    print(f\"Is space: {token.is_space}\")\n",
    "    print(f\"Entity type: {token.ent_type_}\")"
   ]
  },
  {
   "cell_type": "code",
   "execution_count": null,
   "id": "1d5e98f7",
   "metadata": {},
   "outputs": [
    {
     "data": {
      "text/plain": [
       "<function Token.__dir__()>"
      ]
     },
     "metadata": {},
     "output_type": "display_data"
    }
   ],
   "source": [
    "getattr(res[0], dir(res[0])[4])"
   ]
  },
  {
   "cell_type": "code",
   "execution_count": null,
   "id": "bbfee392",
   "metadata": {},
   "outputs": [],
   "source": [
    "def attr_id(obj, id):\n",
    "    return getattr(obj, dir(obj)[id])"
   ]
  },
  {
   "cell_type": "code",
   "execution_count": null,
   "id": "a461bd87",
   "metadata": {},
   "outputs": [],
   "source": [
    "nlp = sp.load('it_core_news_sm')\n",
    "res = nlp(testi[0])\n",
    "\n",
    "for i in range(len(res)):\n",
    "    print(res[i].ent_type_  + ' |  ' + res[i].lemma_)"
   ]
  },
  {
   "cell_type": "code",
   "execution_count": null,
   "id": "23826bfc",
   "metadata": {},
   "outputs": [
    {
     "name": "stderr",
     "output_type": "stream",
     "text": [
      "  0%|          | 0/18718 [00:00<?, ?it/s]"
     ]
    },
    {
     "name": "stderr",
     "output_type": "stream",
     "text": [
      "100%|██████████| 18718/18718 [00:00<00:00, 210289.85it/s]\n",
      "100%|██████████| 18718/18718 [00:01<00:00, 11952.80it/s]\n"
     ]
    }
   ],
   "source": [
    "tok_docs = tokenizer(testi, lower=True, type='regex')"
   ]
  },
  {
   "cell_type": "code",
   "execution_count": null,
   "id": "35e24b83",
   "metadata": {},
   "outputs": [
    {
     "name": "stderr",
     "output_type": "stream",
     "text": [
      "\n",
      "\n",
      "\n",
      "\n",
      "\u001b[A\u001b[A\u001b[A\u001b[A"
     ]
    }
   ],
   "source": [
    "tok_docs = tokenizer(testi, lower=False, type='spacy')"
   ]
  },
  {
   "cell_type": "code",
   "execution_count": null,
   "id": "51d2449c",
   "metadata": {},
   "outputs": [
    {
     "name": "stdout",
     "output_type": "stream",
     "text": [
      "=== Testing with automatic vocabulary ===\n",
      "DTM shape: (4, 6)\n",
      "Vocabulary: ['hello', 'learning', 'machine', 'programming', 'python', 'world']\n",
      "DTM (dense view):\n",
      "[[2 0 0 0 1 1]\n",
      " [0 1 1 0 0 1]\n",
      " [0 0 0 1 2 1]\n",
      " [1 1 1 0 1 0]]\n",
      "Sparsity: 45.83%\n",
      "\n",
      "=== Testing with predefined vocabulary ===\n",
      "DTM shape: (4, 5)\n",
      "Vocabulary: ['hello', 'world', 'python', 'machine', 'learning']\n",
      "DTM (dense view):\n",
      "[[2 1 1 0 0]\n",
      " [0 1 0 1 1]\n",
      " [0 1 2 0 0]\n",
      " [1 0 1 1 1]]\n",
      "\n",
      "=== Performance comparison ===\n",
      "Large dataset (100 docs, 1000 vocab):\n",
      "Sparse matrix time: 0.013s\n",
      "Matrix shape: (100, 1000)\n",
      "Memory usage (sparse): 120404 bytes\n",
      "Sparsity: 90.00%\n"
     ]
    }
   ],
   "source": [
    "import numpy as np\n",
    "from collections import defaultdict, Counter\n",
    "from typing import List, Dict, Set, Optional, Tuple\n",
    "import scipy.sparse as scsp\n",
    "\n",
    "def build_dtm_efficient(tokenized_docs: List[List[str]], \n",
    "                       vocabulary: Optional[List[str]] = None) -> Tuple[scsp.csr_matrix, List[str]]:\n",
    "    \"\"\"\n",
    "    Build a Document Term Matrix efficiently using sparse matrices.\n",
    "    \n",
    "    Args:\n",
    "        tokenized_docs: List of lists, where each inner list contains tokens for a document\n",
    "        vocabulary: Optional list of tokens to use as vocabulary. If None, extracts from docs.\n",
    "    \n",
    "    Returns:\n",
    "        Tuple of (sparse DTM matrix, vocabulary list)\n",
    "        DTM shape: (n_documents, n_vocabulary_terms)\n",
    "    \"\"\"\n",
    "    n_docs = len(tokenized_docs)\n",
    "    \n",
    "    # Build vocabulary if not provided\n",
    "    if vocabulary is None:\n",
    "        vocab_set = set()\n",
    "        for doc in tokenized_docs:\n",
    "            vocab_set.update(doc)\n",
    "        vocabulary = sorted(list(vocab_set))\n",
    "    \n",
    "    # Create word to index mapping\n",
    "    word_to_idx = {word: idx for idx, word in enumerate(vocabulary)}\n",
    "    n_vocab = len(vocabulary)\n",
    "    \n",
    "    # Use lists for sparse matrix construction\n",
    "    row_indices = []\n",
    "    col_indices = []\n",
    "    data = []\n",
    "    \n",
    "    # Process each document\n",
    "    for doc_idx, doc_tokens in enumerate(tokenized_docs):\n",
    "        # Count term frequencies in document\n",
    "        term_counts = Counter(doc_tokens)\n",
    "        \n",
    "        # Add non-zero entries to sparse matrix data\n",
    "        for term, count in term_counts.items():\n",
    "            if term in word_to_idx:  # Only include terms in vocabulary\n",
    "                row_indices.append(doc_idx)\n",
    "                col_indices.append(word_to_idx[term])\n",
    "                data.append(count)\n",
    "    \n",
    "    # Create sparse matrix\n",
    "    dtm = scsp.csr_matrix((data, (row_indices, col_indices)), \n",
    "                        shape=(n_docs, n_vocab))\n",
    "    \n",
    "    return dtm, vocabulary\n",
    "\n",
    "def build_dtm_dense(tokenized_docs: List[List[str]], \n",
    "                   vocabulary: Optional[List[str]] = None) -> Tuple[np.ndarray, List[str]]:\n",
    "    \"\"\"\n",
    "    Build a Document Term Matrix using dense numpy arrays.\n",
    "    Use only for small datasets where memory isn't a concern.\n",
    "    \n",
    "    Args:\n",
    "        tokenized_docs: List of lists, where each inner list contains tokens for a document\n",
    "        vocabulary: Optional list of tokens to use as vocabulary. If None, extracts from docs.\n",
    "    \n",
    "    Returns:\n",
    "        Tuple of (dense DTM matrix, vocabulary list)\n",
    "        DTM shape: (n_documents, n_vocabulary_terms)\n",
    "    \"\"\"\n",
    "    n_docs = len(tokenized_docs)\n",
    "    \n",
    "    # Build vocabulary if not provided\n",
    "    if vocabulary is None:\n",
    "        vocab_set = set()\n",
    "        for doc in tokenized_docs:\n",
    "            vocab_set.update(doc)\n",
    "        vocabulary = sorted(list(vocab_set))\n",
    "    \n",
    "    # Create word to index mapping\n",
    "    word_to_idx = {word: idx for idx, word in enumerate(vocabulary)}\n",
    "    n_vocab = len(vocabulary)\n",
    "    \n",
    "    # Initialize DTM matrix\n",
    "    dtm = np.zeros((n_docs, n_vocab), dtype=np.int32)\n",
    "    \n",
    "    # Fill matrix\n",
    "    for doc_idx, doc_tokens in enumerate(tokenized_docs):\n",
    "        term_counts = Counter(doc_tokens)\n",
    "        for term, count in term_counts.items():\n",
    "            if term in word_to_idx:\n",
    "                dtm[doc_idx, word_to_idx[term]] = count\n",
    "    \n",
    "    return dtm, vocabulary\n",
    "\n",
    "def build_dtm_memory_efficient(tokenized_docs: List[List[str]], \n",
    "                              vocabulary: Optional[List[str]] = None,\n",
    "                              batch_size: int = 1000) -> Tuple[sp.csr_matrix, List[str]]:\n",
    "    \"\"\"\n",
    "    Memory-efficient version for very large datasets.\n",
    "    Processes documents in batches to reduce memory usage.\n",
    "    \n",
    "    Args:\n",
    "        tokenized_docs: List of lists, where each inner list contains tokens for a document\n",
    "        vocabulary: Optional list of tokens to use as vocabulary. If None, extracts from docs.\n",
    "        batch_size: Number of documents to process at once\n",
    "    \n",
    "    Returns:\n",
    "        Tuple of (sparse DTM matrix, vocabulary list)\n",
    "    \"\"\"\n",
    "    n_docs = len(tokenized_docs)\n",
    "    \n",
    "    # Build vocabulary if not provided\n",
    "    if vocabulary is None:\n",
    "        vocab_set = set()\n",
    "        for i in range(0, n_docs, batch_size):\n",
    "            batch = tokenized_docs[i:i+batch_size]\n",
    "            for doc in batch:\n",
    "                vocab_set.update(doc)\n",
    "        vocabulary = sorted(list(vocab_set))\n",
    "    \n",
    "    word_to_idx = {word: idx for idx, word in enumerate(vocabulary)}\n",
    "    n_vocab = len(vocabulary)\n",
    "    \n",
    "    # Process in batches\n",
    "    matrices = []\n",
    "    for i in range(0, n_docs, batch_size):\n",
    "        batch = tokenized_docs[i:i+batch_size]\n",
    "        batch_size_actual = len(batch)\n",
    "        \n",
    "        row_indices = []\n",
    "        col_indices = []\n",
    "        data = []\n",
    "        \n",
    "        for doc_idx, doc_tokens in enumerate(batch):\n",
    "            term_counts = Counter(doc_tokens)\n",
    "            for term, count in term_counts.items():\n",
    "                if term in word_to_idx:\n",
    "                    row_indices.append(doc_idx)\n",
    "                    col_indices.append(word_to_idx[term])\n",
    "                    data.append(count)\n",
    "        \n",
    "        batch_matrix = scsp.csr_matrix((data, (row_indices, col_indices)), \n",
    "                                   shape=(batch_size_actual, n_vocab))\n",
    "        matrices.append(batch_matrix)\n",
    "    \n",
    "    # Combine all batch matrices\n",
    "    dtm = scsp.vstack(matrices)\n",
    "    \n",
    "    return dtm, vocabulary\n",
    "\n",
    "\n",
    "def DTM_numpy_dict(tok_docs, tok_vocab=None):\n",
    "    \"\"\"\n",
    "    Returns the document term matrix (as pandas DataFrame)\n",
    "    tok_docs: list[list[str]]\n",
    "    tok_vocab: list[str] (optional)\n",
    "    \"\"\"\n",
    "    N = len(tok_docs)\n",
    "\n",
    "    # Build vocabulary if not provided\n",
    "    if tok_vocab is None:\n",
    "        tok_vocab = np.unique(np.concatenate([np.array(doc) for doc in tq.tqdm(tok_docs)]))\n",
    "    else:\n",
    "        tok_vocab = np.array(tok_vocab)\n",
    "\n",
    "\n",
    "    # Create word to index mapping\n",
    "    word_to_idx = {word: idx for idx, word in enumerate(tok_vocab)}\n",
    "    W = len(tok_vocab)\n",
    "\n",
    "\n",
    "    # Initialize DTM matrix\n",
    "    dtm = np.zeros((N, W), dtype=np.int32)\n",
    "    \n",
    "    # Fill matrix\n",
    "    for doc_idx, doc_tokens in tq.tqdm(enumerate(tok_docs)):\n",
    "        term_counts = Counter(doc_tokens)\n",
    "        for term, count in term_counts.items():\n",
    "            if term in word_to_idx:\n",
    "                dtm[doc_idx, word_to_idx[term]] = count\n",
    "    \n",
    "    dtm = pd.DataFrame(dtm)\n",
    "    dtm.columns = tok_vocab\n",
    "\n",
    "    return dtm\n",
    "\n",
    "\n",
    "# Example usage and testing\n",
    "if __name__ == \"__main__\":\n",
    "    # Sample data\n",
    "    tokenized_docs = [\n",
    "        [\"hello\", \"world\", \"python\", \"hello\"],\n",
    "        [\"world\", \"machine\", \"learning\"],\n",
    "        [\"python\", \"programming\", \"world\", \"python\"],\n",
    "        [\"hello\", \"machine\", \"learning\", \"python\"]\n",
    "    ]\n",
    "    \n",
    "    # Test with automatic vocabulary extraction\n",
    "    print(\"=== Testing with automatic vocabulary ===\")\n",
    "    dtm_sparse, vocab = build_dtm_efficient(tokenized_docs)\n",
    "    print(f\"DTM shape: {dtm_sparse.shape}\")\n",
    "    print(f\"Vocabulary: {vocab}\")\n",
    "    print(f\"DTM (dense view):\\n{dtm_sparse.toarray()}\")\n",
    "    print(f\"Sparsity: {1 - dtm_sparse.nnz / (dtm_sparse.shape[0] * dtm_sparse.shape[1]):.2%}\")\n",
    "    \n",
    "    # Test with predefined vocabulary\n",
    "    print(\"\\n=== Testing with predefined vocabulary ===\")\n",
    "    custom_vocab = [\"hello\", \"world\", \"python\", \"machine\", \"learning\"]\n",
    "    dtm_sparse2, vocab2 = build_dtm_efficient(tokenized_docs, custom_vocab)\n",
    "    print(f\"DTM shape: {dtm_sparse2.shape}\")\n",
    "    print(f\"Vocabulary: {vocab2}\")\n",
    "    print(f\"DTM (dense view):\\n{dtm_sparse2.toarray()}\")\n",
    "    \n",
    "    # Performance comparison example\n",
    "    print(\"\\n=== Performance comparison ===\")\n",
    "    import time\n",
    "    \n",
    "    # Generate larger test data\n",
    "    large_docs = [[\"word\" + str(i % 1000) for i in range(j, j+100)] for j in range(0, 10000, 100)]\n",
    "    \n",
    "    start_time = time.time()\n",
    "    dtm_large, vocab_large = build_dtm_efficient(large_docs)\n",
    "    sparse_time = time.time() - start_time\n",
    "    \n",
    "    print(f\"Large dataset ({len(large_docs)} docs, {len(vocab_large)} vocab):\")\n",
    "    print(f\"Sparse matrix time: {sparse_time:.3f}s\")\n",
    "    print(f\"Matrix shape: {dtm_large.shape}\")\n",
    "    print(f\"Memory usage (sparse): {dtm_large.data.nbytes + dtm_large.indices.nbytes + dtm_large.indptr.nbytes} bytes\")\n",
    "    print(f\"Sparsity: {1 - dtm_large.nnz / (dtm_large.shape[0] * dtm_large.shape[1]):.2%}\")"
   ]
  },
  {
   "cell_type": "code",
   "execution_count": 59,
   "id": "9e5c587e",
   "metadata": {},
   "outputs": [
    {
     "name": "stdout",
     "output_type": "stream",
     "text": [
      "[1, 4, 3, 4, 2, 1, 55]\n"
     ]
    }
   ],
   "source": [
    "def list_merge(list_of_lists):\n",
    "    flat_list = []\n",
    "    #out = [flat_list.extend(new) for new in list_of_lists]\n",
    "    m = list(map(flat_list.extend, list_of_lists))\n",
    "    return flat_list\n",
    "\n",
    "print(list_merge([[1,4,3], [4,2], [1,55]]))"
   ]
  },
  {
   "cell_type": "code",
   "execution_count": 56,
   "id": "c7b458dc",
   "metadata": {},
   "outputs": [
    {
     "name": "stdout",
     "output_type": "stream",
     "text": [
      "[1, 2, 2, 4]\n"
     ]
    }
   ],
   "source": [
    "a = [1,2]\n",
    "b = [2,4]\n",
    "a.extend(b)\n",
    "print(a)"
   ]
  },
  {
   "cell_type": "code",
   "execution_count": 31,
   "id": "5f4ea890",
   "metadata": {},
   "outputs": [
    {
     "name": "stdout",
     "output_type": "stream",
     "text": [
      "wrapper: new_arg=X\n",
      "original: a=1, b=2\n"
     ]
    }
   ],
   "source": [
    "def original(a=1, b=2):\n",
    "    print(f\"original: a={a}, b={b}\")\n",
    "\n",
    "def wrapper(new_arg, *args, **kwargs):\n",
    "    print(f\"wrapper: new_arg={new_arg}\")\n",
    "    return original(*args, **kwargs)\n",
    "\n",
    "# Example usage\n",
    "wrapper(\"X\")"
   ]
  },
  {
   "cell_type": "code",
   "execution_count": 32,
   "id": "f6eaab97",
   "metadata": {},
   "outputs": [
    {
     "name": "stdout",
     "output_type": "stream",
     "text": [
      "Positional arguments: (1, 2, 3)\n",
      "Keyword arguments: {'a': 4, 'b': 5}\n"
     ]
    }
   ],
   "source": [
    "def fun(*args, **kwargs):\n",
    "    print(\"Positional arguments:\", args)\n",
    "    print(\"Keyword arguments:\", kwargs)\n",
    "\n",
    "fun(1, 2, 3, a=4, b=5)"
   ]
  },
  {
   "cell_type": "markdown",
   "id": "1f98e17e",
   "metadata": {},
   "source": [
    "# Text frequency analysis"
   ]
  },
  {
   "cell_type": "code",
   "execution_count": 1,
   "id": "559b1da0",
   "metadata": {},
   "outputs": [],
   "source": [
    "import numpy as np\n",
    "import pandas as pd\n",
    "import seaborn as sns\n",
    "import gensim.corpora as corpora\n",
    "from tqdm import tqdm\n",
    "import re\n",
    "import spacy as sp\n",
    "import nltk as nk\n",
    "import scipy.sparse as scsp\n",
    "\n",
    "\n",
    "def build_dtm(tokenized_corpus, asdataframe=False):\n",
    "    id2word = corpora.Dictionary(tokenized_corpus)\n",
    "    id_corpus = [id2word.doc2bow(document) for document in tqdm(tokenized_corpus)]\n",
    "    vocab = id2word.token2id\n",
    "    n_docs = len(id_corpus)\n",
    "    n_vocab = len(vocab)\n",
    "\n",
    "    row_indices = []\n",
    "    col_indices = []\n",
    "    cells = []\n",
    "    for i in range(n_docs):\n",
    "        doc = id_corpus[i]\n",
    "        for id, count in doc:\n",
    "            row_indices.append(i)\n",
    "            col_indices.append(id)\n",
    "            cells.append(count)\n",
    "\n",
    "    DTM = scsp.csr_matrix((cells, (row_indices, col_indices)), \n",
    "                        shape=(n_docs, n_vocab)).toarray()\n",
    "\n",
    "    if (asdataframe):\n",
    "        DTM = pd.DataFrame(DTM)\n",
    "        DTM.columns = vocab.keys()\n",
    "        return DTM\n",
    "    else:\n",
    "        return DTM, vocab\n",
    "    \n",
    "\n",
    "\n",
    "\n",
    "def tokenizer(docs, type='split', lower=False, spacy_model ='en_core_web_sm', \n",
    "              regex_cmd=r'\\b\\w+\\b', nltk_language='english', spacy_lemma=False):\n",
    "\n",
    "    \"\"\"\n",
    "    docs: list of strings, the documents of the corpus\n",
    "    type: str, can be split, regex, nltk or spacy, in order of descending speed and ascending accuracy\n",
    "    lower: bool, if the text should be converted to lowercase, default false\n",
    "    spacy_model: str, the model that spacy will call if type='spacy'. Default en_core_web_sm for english language.\n",
    "    To download the model call from the terminal\n",
    "    python -m spacy download en_core_web_sm\n",
    "    regex_cmd: str, default r'\\b\\w+\\b'\n",
    "    is the command that goes in re.findall, that select as tokens the text that matches the regex command\n",
    "    nltk_language: str, default 'english'\n",
    "    the language that nltk uses in word_tokenize. To use this you need to run once nltk.download('all') in your venv\n",
    "    spacy_lemma: bool, default false,\n",
    "    if type='spacy' then if spacy_lemma get the lemmatized token, otherwise get text\n",
    "    \"\"\"\n",
    "\n",
    "    if lower:\n",
    "        docs = [d.lower() for d in tqdm(docs)]\n",
    "        print('all text is now lowercase')\n",
    "\n",
    "    if (type=='split'):\n",
    "        tok_docs = [d.split() for d in tqdm(docs)]\n",
    "\n",
    "    if (type=='regex'):\n",
    "        tok_docs = [re.findall(regex_cmd, d) for d in tqdm(docs)]\n",
    "\n",
    "    if (type=='nltk'):\n",
    "        tok_docs = [nk.word_tokenize(d, language=nltk_language) for d in tqdm(docs)]\n",
    "    \n",
    "    if (type=='spacy'):\n",
    "        nlp = sp.load(spacy_model, disable=['tagger', 'parser', 'ner'])\n",
    "        if (spacy_lemma):\n",
    "            tok_docs = [ [token.lemma_ for token in nlp(d)] for d in tqdm(docs) ]\n",
    "        else:\n",
    "            tok_docs = [ [token.text for token in nlp(d)] for d in tqdm(docs) ]\n",
    "\n",
    "    return tok_docs"
   ]
  },
  {
   "cell_type": "code",
   "execution_count": null,
   "id": "5d57b881",
   "metadata": {},
   "outputs": [
    {
     "name": "stderr",
     "output_type": "stream",
     "text": [
      "100%|██████████| 18718/18718 [00:00<00:00, 238403.04it/s]\n"
     ]
    },
    {
     "name": "stdout",
     "output_type": "stream",
     "text": [
      "all text is now lowercase\n"
     ]
    },
    {
     "name": "stderr",
     "output_type": "stream",
     "text": [
      "100%|██████████| 18718/18718 [07:56<00:00, 39.32it/s] \n",
      "100%|██████████| 18718/18718 [00:02<00:00, 8311.39it/s]\n"
     ]
    }
   ],
   "source": [
    "# dataset_path = 'preprocessed_datasets/codici040I.csv'\n",
    "# dataset = pd.read_csv(dataset_path, sep=';')\n",
    "# docs = np.array(dataset['testoArt'])\n",
    "# tok_docs = tokenizer(docs, type='spacy', lower=True, spacy_lemma=True, \n",
    "#                      spacy_model='it_core_news_sm', nltk_language='italian')\n",
    "# DTM, vocab = build_dtm(tok_docs, asdataframe=False)"
   ]
  },
  {
   "cell_type": "code",
   "execution_count": null,
   "id": "97fee5da",
   "metadata": {},
   "outputs": [
    {
     "name": "stderr",
     "output_type": "stream",
     "text": [
      "100%|██████████| 18718/18718 [00:00<00:00, 223141.48it/s]\n"
     ]
    },
    {
     "name": "stdout",
     "output_type": "stream",
     "text": [
      "all text is now lowercase\n"
     ]
    },
    {
     "name": "stderr",
     "output_type": "stream",
     "text": [
      "100%|██████████| 18718/18718 [00:01<00:00, 13620.79it/s]\n",
      "100%|██████████| 18718/18718 [00:01<00:00, 11725.17it/s]\n"
     ]
    }
   ],
   "source": [
    "dataset_path = 'preprocessed_datasets/codici040I.csv'\n",
    "dataset = pd.read_csv(dataset_path, sep=';')\n",
    "docs = np.array(dataset['testoArt'])\n",
    "tok_docs = tokenizer(docs, type='regex', regex_cmd=r'\\b[a-zA-Z]{3,}\\b',  lower=True)\n",
    "DTM, vocab = build_dtm(tok_docs, asdataframe=False)"
   ]
  },
  {
   "cell_type": "code",
   "execution_count": null,
   "id": "5eafbb04",
   "metadata": {},
   "outputs": [
    {
     "name": "stdout",
     "output_type": "stream",
     "text": [
      "(18718, 27077)\n",
      "27077\n"
     ]
    }
   ],
   "source": [
    "print(DTM.shape)\n",
    "print(len(vocab))"
   ]
  },
  {
   "cell_type": "code",
   "execution_count": 19,
   "id": "d67fafa3",
   "metadata": {},
   "outputs": [
    {
     "name": "stderr",
     "output_type": "stream",
     "text": [
      "100%|██████████| 27077/27077 [00:16<00:00, 1608.26it/s]\n"
     ]
    }
   ],
   "source": [
    "tok_tf = np.sum(DTM, axis=0)\n",
    "tok_df = np.array([np.sum(DTM[:,v] > 0) for v in tqdm(range(DTM.shape[1]))])"
   ]
  },
  {
   "cell_type": "code",
   "execution_count": 20,
   "id": "ff57995d",
   "metadata": {},
   "outputs": [
    {
     "name": "stdout",
     "output_type": "stream",
     "text": [
      "(27077,)\n",
      "(27077,)\n"
     ]
    }
   ],
   "source": [
    "print(tok_tf.shape)\n",
    "print(tok_df.shape)"
   ]
  },
  {
   "cell_type": "code",
   "execution_count": 22,
   "id": "26165d9d",
   "metadata": {},
   "outputs": [],
   "source": [
    "tok_idf = np.log((DTM.shape[0] + 1) / (tok_df + 1))  # Adding 1 to avoid division by zero\n",
    "tok_tfidf = tok_tf * tok_idf"
   ]
  },
  {
   "cell_type": "code",
   "execution_count": 25,
   "id": "ac89af13",
   "metadata": {},
   "outputs": [],
   "source": [
    "freq_data = pd.DataFrame({'nomi': np.fromiter(vocab.keys(), dtype='<U32'), 'term_freq': tok_tf, 'doc_freq':tok_df, 'idf': tok_idf, 'tfidf': tok_tfidf})"
   ]
  },
  {
   "cell_type": "code",
   "execution_count": 32,
   "id": "62688611",
   "metadata": {},
   "outputs": [
    {
     "name": "stdout",
     "output_type": "stream",
     "text": [
      "count    27077.000000\n",
      "mean       268.309508\n",
      "std        947.787636\n",
      "min          9.144147\n",
      "25%          9.144147\n",
      "50%         34.954728\n",
      "75%        142.648210\n",
      "max      26534.799962\n",
      "Name: tfidf, dtype: float64\n",
      "26534.799962478788\n"
     ]
    },
    {
     "data": {
      "image/png": "[encoded data removed]",
      "text/plain": [
       "<Figure size 500x500 with 1 Axes>"
      ]
     },
     "metadata": {},
     "output_type": "display_data"
    },
    {
     "data": {
      "image/png": "[encoded data removed]",
      "text/plain": [
       "<Figure size 500x500 with 1 Axes>"
      ]
     },
     "metadata": {},
     "output_type": "display_data"
    }
   ],
   "source": [
    "## zipf distribution under log\n",
    "vec = freq_data['tfidf']\n",
    "c = vec.max()\n",
    "zipf = c/np.arange(1, len(vec)+1)\n",
    "sns.displot(np.log(vec), bins=50)\n",
    "sns.displot(np.log(zipf), bins=50)\n",
    "print(pd.Series(vec).describe())\n",
    "print(c)"
   ]
  },
  {
   "cell_type": "markdown",
   "id": "86613144",
   "metadata": {},
   "source": [
    "# statistical parsing"
   ]
  },
  {
   "cell_type": "code",
   "execution_count": 70,
   "id": "971d241e",
   "metadata": {},
   "outputs": [
    {
     "name": "stdout",
     "output_type": "stream",
     "text": [
      "Help on method_descriptor:\n",
      "\n",
      "split(self, /, sep=None, maxsplit=-1)\n",
      "    Return a list of the words in the string, using sep as the delimiter string.\n",
      "    \n",
      "    sep\n",
      "      The delimiter according which to split the string.\n",
      "      None (the default value) means split according to any whitespace,\n",
      "      and discard empty strings from the result.\n",
      "    maxsplit\n",
      "      Maximum number of splits to do.\n",
      "      -1 (the default value) means no limit.\n",
      "\n"
     ]
    }
   ],
   "source": [
    "help(str.split)"
   ]
  },
  {
   "cell_type": "code",
   "execution_count": null,
   "id": "a69f6c31",
   "metadata": {},
   "outputs": [],
   "source": [
    "import re\n",
    "\n",
    "dataset = pd.read_csv('preprocessed_datasets/codici040I.csv', sep=';')\n",
    "testi = np.array(dataset['testoArt'])\n",
    "testi = [doc.lower() for doc in testi]\n",
    "frasi = [re.split(r\"[.?!]+\", doc) for doc in testi]\n",
    "tokens = [[re.split(r\"[,\\s+\\']+\", frase) for frase in docu] for docu in frasi ]\n",
    "tokens = [[[tok for tok in fra if tok!=''] for fra in docu] for docu in tokens]"
   ]
  },
  {
   "cell_type": "code",
   "execution_count": 130,
   "id": "c9b1b7e4",
   "metadata": {},
   "outputs": [
    {
     "data": {
      "text/plain": [
       "[[['il',\n",
       "   'capo',\n",
       "   'provvisorio',\n",
       "   'dello',\n",
       "   'stato',\n",
       "   'vista',\n",
       "   'la',\n",
       "   'deliberazione',\n",
       "   'dell',\n",
       "   'assemblea',\n",
       "   'costituente',\n",
       "   'che',\n",
       "   'nella',\n",
       "   'seduta',\n",
       "   'del',\n",
       "   '22',\n",
       "   'dicembre',\n",
       "   '1947',\n",
       "   'ha',\n",
       "   'approvato',\n",
       "   'la',\n",
       "   'costituzione',\n",
       "   'della',\n",
       "   'repubblica',\n",
       "   'italiana'],\n",
       "  ['vista', 'la', 'xviii', 'disposizione', 'finale', 'della', 'costituzione'],\n",
       "  ['promulga',\n",
       "   'la',\n",
       "   'costituzione',\n",
       "   'della',\n",
       "   'repubblica',\n",
       "   'italiana',\n",
       "   'nel',\n",
       "   'seguente',\n",
       "   'testo:',\n",
       "   'art'],\n",
       "  ['1'],\n",
       "  ['l',\n",
       "   'italia',\n",
       "   'e',\n",
       "   'una',\n",
       "   'repubblica',\n",
       "   'democratica',\n",
       "   'fondata',\n",
       "   'sul',\n",
       "   'lavoro'],\n",
       "  ['la',\n",
       "   'sovranita',\n",
       "   'appartiene',\n",
       "   'al',\n",
       "   'popolo',\n",
       "   'che',\n",
       "   'la',\n",
       "   'esercita',\n",
       "   'nelle',\n",
       "   'forme',\n",
       "   'e',\n",
       "   'nei',\n",
       "   'limiti',\n",
       "   'della',\n",
       "   'costituzione'],\n",
       "  []],\n",
       " [['art'],\n",
       "  ['2'],\n",
       "  ['la',\n",
       "   'repubblica',\n",
       "   'riconosce',\n",
       "   'e',\n",
       "   'garantisce',\n",
       "   'i',\n",
       "   'diritti',\n",
       "   'inviolabili',\n",
       "   'dell',\n",
       "   'uomo',\n",
       "   'sia',\n",
       "   'come',\n",
       "   'singolo',\n",
       "   'sia',\n",
       "   'nelle',\n",
       "   'formazioni',\n",
       "   'sociali',\n",
       "   'ove',\n",
       "   'si',\n",
       "   'svolge',\n",
       "   'la',\n",
       "   'sua',\n",
       "   'personalita',\n",
       "   'e',\n",
       "   'richiede',\n",
       "   'l',\n",
       "   'adempimento',\n",
       "   'dei',\n",
       "   'doveri',\n",
       "   'inderogabili',\n",
       "   'di',\n",
       "   'solidarieta',\n",
       "   'politica',\n",
       "   'economica',\n",
       "   'e',\n",
       "   'sociale'],\n",
       "  []]]"
      ]
     },
     "execution_count": 130,
     "metadata": {},
     "output_type": "execute_result"
    }
   ],
   "source": [
    "tokens[0:2]"
   ]
  },
  {
   "cell_type": "code",
   "execution_count": 115,
   "id": "05bf4c8a",
   "metadata": {},
   "outputs": [
    {
     "name": "stdout",
     "output_type": "stream",
     "text": [
      "count    252231.000000\n",
      "mean         14.525150\n",
      "std          18.526287\n",
      "min           1.000000\n",
      "25%           2.000000\n",
      "50%           6.000000\n",
      "75%          22.000000\n",
      "max        1942.000000\n",
      "Name: lunghezza, dtype: float64\n"
     ]
    },
    {
     "data": {
      "text/plain": [
       "<seaborn.axisgrid.FacetGrid at 0x278f254a4d0>"
      ]
     },
     "execution_count": 115,
     "metadata": {},
     "output_type": "execute_result"
    },
    {
     "data": {
      "image/png": "[encoded data removed]",
      "text/plain": [
       "<Figure size 500x500 with 1 Axes>"
      ]
     },
     "metadata": {},
     "output_type": "display_data"
    }
   ],
   "source": [
    "lunghezze = np.array([len(tokens[i]) for i in range(len(tokens))])\n",
    "df_lunghezze = pd.DataFrame({'lunghezza': lunghezze})\n",
    "print(df_lunghezze['lunghezza'].describe())\n",
    "sns.displot(np.log(df_lunghezze['lunghezza']), bins=50)"
   ]
  },
  {
   "cell_type": "code",
   "execution_count": 116,
   "id": "9a508173",
   "metadata": {},
   "outputs": [
    {
     "name": "stdout",
     "output_type": "stream",
     "text": [
      "count    67023.000000\n",
      "mean        39.357489\n",
      "std         19.519369\n",
      "min         21.000000\n",
      "25%         27.000000\n",
      "50%         35.000000\n",
      "75%         47.000000\n",
      "max       1942.000000\n",
      "Name: lunghezza, dtype: float64\n"
     ]
    },
    {
     "data": {
      "text/plain": [
       "<seaborn.axisgrid.FacetGrid at 0x278f2548c40>"
      ]
     },
     "execution_count": 116,
     "metadata": {},
     "output_type": "execute_result"
    },
    {
     "data": {
      "image/png": "[encoded data removed]",
      "text/plain": [
       "<Figure size 500x500 with 1 Axes>"
      ]
     },
     "metadata": {},
     "output_type": "display_data"
    }
   ],
   "source": [
    "df_lunghezze = pd.DataFrame({'lunghezza': lunghezze[lunghezze>20]})\n",
    "print(df_lunghezze['lunghezza'].describe())\n",
    "sns.displot(np.log(df_lunghezze['lunghezza']), bins=50)"
   ]
  },
  {
   "cell_type": "code",
   "execution_count": 117,
   "id": "9d250230",
   "metadata": {},
   "outputs": [
    {
     "name": "stdout",
     "output_type": "stream",
     "text": [
      "147796\n",
      "[['', 'il', 'capo', 'provvisorio', 'dello', 'stato', 'vista', 'la', 'deliberazione', 'dell', 'assemblea', 'costituente', 'che', 'nella', 'seduta', 'del', '22', 'dicembre', '1947', 'ha', 'approvato', 'la', 'costituzione', 'della', 'repubblica', 'italiana'], ['', 'vista', 'la', 'xviii', 'disposizione', 'finale', 'della', 'costituzione'], ['', 'promulga', 'la', 'costituzione', 'della', 'repubblica', 'italiana', 'nel', 'seguente', 'testo:', 'art'], ['', 'l', 'italia', 'e', 'una', 'repubblica', 'democratica', 'fondata', 'sul', 'lavoro'], ['', 'la', 'sovranita', 'appartiene', 'al', 'popolo', 'che', 'la', 'esercita', 'nelle', 'forme', 'e', 'nei', 'limiti', 'della', 'costituzione']]\n"
     ]
    }
   ],
   "source": [
    "\n",
    "frasi_valide = [tokens[i] for i in np.where(np.logical_and(lunghezze<50, lunghezze>2))[0].tolist()]\n",
    "print(len(frasi_valide))\n",
    "print(frasi_valide[0:5])"
   ]
  },
  {
   "cell_type": "code",
   "execution_count": 109,
   "id": "ea95d60e",
   "metadata": {},
   "outputs": [
    {
     "data": {
      "text/plain": [
       "['dell', 'assemblea', 'costituente']"
      ]
     },
     "execution_count": 109,
     "metadata": {},
     "output_type": "execute_result"
    }
   ],
   "source": [
    "re.split(r\"[\\s\\']+\",  \"dell'assemblea costituente\")"
   ]
  }
 ],
 "metadata": {
  "kernelspec": {
   "display_name": "OCTIS_py_env",
   "language": "python",
   "name": "python3"
  },
  "language_info": {
   "codemirror_mode": {
    "name": "ipython",
    "version": 3
   },
   "file_extension": ".py",
   "mimetype": "text/x-python",
   "name": "python",
   "nbconvert_exporter": "python",
   "pygments_lexer": "ipython3",
   "version": "3.10.1"
  }
 },
 "nbformat": 4,
 "nbformat_minor": 5
}
