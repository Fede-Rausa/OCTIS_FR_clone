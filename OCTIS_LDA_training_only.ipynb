{
  "cells": [
    {
      "cell_type": "markdown",
      "metadata": {
        "id": "HcX6HdBFiaau"
      },
      "source": [
        "### TUTORIAL: Train LDA with OCTIS\n",
        "\n",
        "Welcome! This is a tutorial that allows you to train a topic model using OCTIS (Optimizing and Comparing Topic Models Is Simple). \n",
        "\n",
        "![](https://github.com/MIND-Lab/OCTIS/blob/master/logo.png?raw=true)\n",
        "\n",
        "A topic model allows you to discover the latent topics in your documents in a completely unsupervised way. Just use your documents and get topics out! It's very easy with OCTIS :)\n",
        "\n",
        "Let's start! First, we need to install OCTIS. (We are going to use the library version of OCTIS, but you can also use it through its dashboard. See https://github.com/mind-Lab/octis for more details.)"
      ]
    },
    {
      "cell_type": "code",
      "execution_count": null,
      "metadata": {
        "id": "m47oOaBsiRlO"
      },
      "outputs": [
        {
          "name": "stdout",
          "output_type": "stream",
          "text": [
            "^C\n"
          ]
        },
        {
          "name": "stderr",
          "output_type": "stream",
          "text": [
            "WARNING: You are using pip version 21.1; however, version 25.1.1 is available.\n",
            "You should consider upgrading via the 'C:\\Users\\feder\\OneDrive\\Documenti\\Fede\\Unimib\\TESI\\OCTIS\\OCTIS_editbyFR\\OCTIS_py_env\\Scripts\\python.exe -m pip install --upgrade pip' command.\n"
          ]
        },
        {
          "name": "stdout",
          "output_type": "stream",
          "text": [
            "Collecting octis\n",
            "  Downloading octis-1.14.0-py2.py3-none-any.whl (130 kB)\n",
            "Requirement already satisfied: gensim<5.0,>=4.2.0 in c:\\users\\feder\\onedrive\\documenti\\fede\\unimib\\tesi\\octis\\octis_editbyfr\\octis_py_env\\lib\\site-packages (from octis) (4.3.3)\n",
            "Requirement already satisfied: scikit-optimize>=0.8.1 in c:\\users\\feder\\onedrive\\documenti\\fede\\unimib\\tesi\\octis\\octis_editbyfr\\octis_py_env\\lib\\site-packages (from octis) (0.10.2)\n",
            "Requirement already satisfied: matplotlib in c:\\users\\feder\\onedrive\\documenti\\fede\\unimib\\tesi\\octis\\octis_editbyfr\\octis_py_env\\lib\\site-packages (from octis) (3.10.3)\n",
            "Requirement already satisfied: spacy in c:\\users\\feder\\onedrive\\documenti\\fede\\unimib\\tesi\\octis\\octis_editbyfr\\octis_py_env\\lib\\site-packages (from octis) (3.8.7)\n",
            "Requirement already satisfied: requests in c:\\users\\feder\\onedrive\\documenti\\fede\\unimib\\tesi\\octis\\octis_editbyfr\\octis_py_env\\lib\\site-packages (from octis) (2.32.4)\n",
            "Requirement already satisfied: tomotopy in c:\\users\\feder\\onedrive\\documenti\\fede\\unimib\\tesi\\octis\\octis_editbyfr\\octis_py_env\\lib\\site-packages (from octis) (0.13.0)\n",
            "Requirement already satisfied: pandas in c:\\users\\feder\\onedrive\\documenti\\fede\\unimib\\tesi\\octis\\octis_editbyfr\\octis_py_env\\lib\\site-packages (from octis) (2.3.0)\n",
            "Requirement already satisfied: sentence-transformers in c:\\users\\feder\\onedrive\\documenti\\fede\\unimib\\tesi\\octis\\octis_editbyfr\\octis_py_env\\lib\\site-packages (from octis) (4.1.0)\n",
            "Requirement already satisfied: nltk in c:\\users\\feder\\onedrive\\documenti\\fede\\unimib\\tesi\\octis\\octis_editbyfr\\octis_py_env\\lib\\site-packages (from octis) (3.9.1)\n",
            "Requirement already satisfied: torch in c:\\users\\feder\\onedrive\\documenti\\fede\\unimib\\tesi\\octis\\octis_editbyfr\\octis_py_env\\lib\\site-packages (from octis) (2.7.1)\n",
            "Requirement already satisfied: flask in c:\\users\\feder\\onedrive\\documenti\\fede\\unimib\\tesi\\octis\\octis_editbyfr\\octis_py_env\\lib\\site-packages (from octis) (3.1.1)\n",
            "Requirement already satisfied: scipy<1.13 in c:\\users\\feder\\onedrive\\documenti\\fede\\unimib\\tesi\\octis\\octis_editbyfr\\octis_py_env\\lib\\site-packages (from octis) (1.12.0)\n",
            "Requirement already satisfied: numpy<2.0,>=1.23.0 in c:\\users\\feder\\onedrive\\documenti\\fede\\unimib\\tesi\\octis\\octis_editbyfr\\octis_py_env\\lib\\site-packages (from octis) (1.26.4)\n",
            "Requirement already satisfied: libsvm in c:\\users\\feder\\onedrive\\documenti\\fede\\unimib\\tesi\\octis\\octis_editbyfr\\octis_py_env\\lib\\site-packages (from octis) (3.23.0.4)\n",
            "Requirement already satisfied: scikit-learn==1.1.0 in c:\\users\\feder\\onedrive\\documenti\\fede\\unimib\\tesi\\octis\\octis_editbyfr\\octis_py_env\\lib\\site-packages (from octis) (1.1.0)\n",
            "Requirement already satisfied: threadpoolctl>=2.0.0 in c:\\users\\feder\\onedrive\\documenti\\fede\\unimib\\tesi\\octis\\octis_editbyfr\\octis_py_env\\lib\\site-packages (from scikit-learn==1.1.0->octis) (3.6.0)\n",
            "Requirement already satisfied: joblib>=1.0.0 in c:\\users\\feder\\onedrive\\documenti\\fede\\unimib\\tesi\\octis\\octis_editbyfr\\octis_py_env\\lib\\site-packages (from scikit-learn==1.1.0->octis) (1.5.1)\n",
            "Requirement already satisfied: smart-open>=1.8.1 in c:\\users\\feder\\onedrive\\documenti\\fede\\unimib\\tesi\\octis\\octis_editbyfr\\octis_py_env\\lib\\site-packages (from gensim<5.0,>=4.2.0->octis) (7.1.0)\n",
            "Requirement already satisfied: packaging>=21.3 in c:\\users\\feder\\onedrive\\documenti\\fede\\unimib\\tesi\\octis\\octis_editbyfr\\octis_py_env\\lib\\site-packages (from scikit-optimize>=0.8.1->octis) (25.0)\n",
            "Requirement already satisfied: pyaml>=16.9 in c:\\users\\feder\\onedrive\\documenti\\fede\\unimib\\tesi\\octis\\octis_editbyfr\\octis_py_env\\lib\\site-packages (from scikit-optimize>=0.8.1->octis) (25.5.0)\n",
            "Requirement already satisfied: PyYAML in c:\\users\\feder\\onedrive\\documenti\\fede\\unimib\\tesi\\octis\\octis_editbyfr\\octis_py_env\\lib\\site-packages (from pyaml>=16.9->scikit-optimize>=0.8.1->octis) (6.0.2)\n",
            "Requirement already satisfied: wrapt in c:\\users\\feder\\onedrive\\documenti\\fede\\unimib\\tesi\\octis\\octis_editbyfr\\octis_py_env\\lib\\site-packages (from smart-open>=1.8.1->gensim<5.0,>=4.2.0->octis) (1.17.2)\n",
            "Requirement already satisfied: itsdangerous>=2.2.0 in c:\\users\\feder\\onedrive\\documenti\\fede\\unimib\\tesi\\octis\\octis_editbyfr\\octis_py_env\\lib\\site-packages (from flask->octis) (2.2.0)\n",
            "Requirement already satisfied: click>=8.1.3 in c:\\users\\feder\\onedrive\\documenti\\fede\\unimib\\tesi\\octis\\octis_editbyfr\\octis_py_env\\lib\\site-packages (from flask->octis) (8.1.3)\n",
            "Requirement already satisfied: markupsafe>=2.1.1 in c:\\users\\feder\\onedrive\\documenti\\fede\\unimib\\tesi\\octis\\octis_editbyfr\\octis_py_env\\lib\\site-packages (from flask->octis) (3.0.2)\n",
            "Requirement already satisfied: jinja2>=3.1.2 in c:\\users\\feder\\onedrive\\documenti\\fede\\unimib\\tesi\\octis\\octis_editbyfr\\octis_py_env\\lib\\site-packages (from flask->octis) (3.1.6)\n",
            "Requirement already satisfied: werkzeug>=3.1.0 in c:\\users\\feder\\onedrive\\documenti\\fede\\unimib\\tesi\\octis\\octis_editbyfr\\octis_py_env\\lib\\site-packages (from flask->octis) (3.1.3)\n",
            "Requirement already satisfied: blinker>=1.9.0 in c:\\users\\feder\\onedrive\\documenti\\fede\\unimib\\tesi\\octis\\octis_editbyfr\\octis_py_env\\lib\\site-packages (from flask->octis) (1.9.0)\n",
            "Requirement already satisfied: colorama in c:\\users\\feder\\onedrive\\documenti\\fede\\unimib\\tesi\\octis\\octis_editbyfr\\octis_py_env\\lib\\site-packages (from click>=8.1.3->flask->octis) (0.4.6)\n",
            "Requirement already satisfied: contourpy>=1.0.1 in c:\\users\\feder\\onedrive\\documenti\\fede\\unimib\\tesi\\octis\\octis_editbyfr\\octis_py_env\\lib\\site-packages (from matplotlib->octis) (1.3.2)\n",
            "Requirement already satisfied: pillow>=8 in c:\\users\\feder\\onedrive\\documenti\\fede\\unimib\\tesi\\octis\\octis_editbyfr\\octis_py_env\\lib\\site-packages (from matplotlib->octis) (11.2.1)\n",
            "Requirement already satisfied: cycler>=0.10 in c:\\users\\feder\\onedrive\\documenti\\fede\\unimib\\tesi\\octis\\octis_editbyfr\\octis_py_env\\lib\\site-packages (from matplotlib->octis) (0.12.1)\n",
            "Requirement already satisfied: kiwisolver>=1.3.1 in c:\\users\\feder\\onedrive\\documenti\\fede\\unimib\\tesi\\octis\\octis_editbyfr\\octis_py_env\\lib\\site-packages (from matplotlib->octis) (1.4.8)\n",
            "Requirement already satisfied: python-dateutil>=2.7 in c:\\users\\feder\\onedrive\\documenti\\fede\\unimib\\tesi\\octis\\octis_editbyfr\\octis_py_env\\lib\\site-packages (from matplotlib->octis) (2.9.0.post0)\n",
            "Requirement already satisfied: pyparsing>=2.3.1 in c:\\users\\feder\\onedrive\\documenti\\fede\\unimib\\tesi\\octis\\octis_editbyfr\\octis_py_env\\lib\\site-packages (from matplotlib->octis) (3.2.3)\n",
            "Requirement already satisfied: fonttools>=4.22.0 in c:\\users\\feder\\onedrive\\documenti\\fede\\unimib\\tesi\\octis\\octis_editbyfr\\octis_py_env\\lib\\site-packages (from matplotlib->octis) (4.58.4)\n",
            "Requirement already satisfied: six>=1.5 in c:\\users\\feder\\onedrive\\documenti\\fede\\unimib\\tesi\\octis\\octis_editbyfr\\octis_py_env\\lib\\site-packages (from python-dateutil>=2.7->matplotlib->octis) (1.17.0)\n",
            "Requirement already satisfied: regex>=2021.8.3 in c:\\users\\feder\\onedrive\\documenti\\fede\\unimib\\tesi\\octis\\octis_editbyfr\\octis_py_env\\lib\\site-packages (from nltk->octis) (2024.11.6)\n",
            "Requirement already satisfied: tqdm in c:\\users\\feder\\onedrive\\documenti\\fede\\unimib\\tesi\\octis\\octis_editbyfr\\octis_py_env\\lib\\site-packages (from nltk->octis) (4.67.1)\n",
            "Requirement already satisfied: tzdata>=2022.7 in c:\\users\\feder\\onedrive\\documenti\\fede\\unimib\\tesi\\octis\\octis_editbyfr\\octis_py_env\\lib\\site-packages (from pandas->octis) (2025.2)\n",
            "Requirement already satisfied: pytz>=2020.1 in c:\\users\\feder\\onedrive\\documenti\\fede\\unimib\\tesi\\octis\\octis_editbyfr\\octis_py_env\\lib\\site-packages (from pandas->octis) (2025.2)\n",
            "Requirement already satisfied: urllib3<3,>=1.21.1 in c:\\users\\feder\\onedrive\\documenti\\fede\\unimib\\tesi\\octis\\octis_editbyfr\\octis_py_env\\lib\\site-packages (from requests->octis) (2.5.0)\n",
            "Requirement already satisfied: certifi>=2017.4.17 in c:\\users\\feder\\onedrive\\documenti\\fede\\unimib\\tesi\\octis\\octis_editbyfr\\octis_py_env\\lib\\site-packages (from requests->octis) (2025.6.15)\n",
            "Requirement already satisfied: idna<4,>=2.5 in c:\\users\\feder\\onedrive\\documenti\\fede\\unimib\\tesi\\octis\\octis_editbyfr\\octis_py_env\\lib\\site-packages (from requests->octis) (3.10)\n",
            "Requirement already satisfied: charset_normalizer<4,>=2 in c:\\users\\feder\\onedrive\\documenti\\fede\\unimib\\tesi\\octis\\octis_editbyfr\\octis_py_env\\lib\\site-packages (from requests->octis) (3.4.2)\n",
            "Requirement already satisfied: transformers<5.0.0,>=4.41.0 in c:\\users\\feder\\onedrive\\documenti\\fede\\unimib\\tesi\\octis\\octis_editbyfr\\octis_py_env\\lib\\site-packages (from sentence-transformers->octis) (4.53.0)\n",
            "Requirement already satisfied: huggingface-hub>=0.20.0 in c:\\users\\feder\\onedrive\\documenti\\fede\\unimib\\tesi\\octis\\octis_editbyfr\\octis_py_env\\lib\\site-packages (from sentence-transformers->octis) (0.33.1)\n",
            "Requirement already satisfied: typing_extensions>=4.5.0 in c:\\users\\feder\\onedrive\\documenti\\fede\\unimib\\tesi\\octis\\octis_editbyfr\\octis_py_env\\lib\\site-packages (from sentence-transformers->octis) (4.14.0)\n",
            "Requirement already satisfied: filelock in c:\\users\\feder\\onedrive\\documenti\\fede\\unimib\\tesi\\octis\\octis_editbyfr\\octis_py_env\\lib\\site-packages (from huggingface-hub>=0.20.0->sentence-transformers->octis) (3.18.0)\n",
            "Requirement already satisfied: fsspec>=2023.5.0 in c:\\users\\feder\\onedrive\\documenti\\fede\\unimib\\tesi\\octis\\octis_editbyfr\\octis_py_env\\lib\\site-packages (from huggingface-hub>=0.20.0->sentence-transformers->octis) (2025.5.1)\n",
            "Requirement already satisfied: networkx in c:\\users\\feder\\onedrive\\documenti\\fede\\unimib\\tesi\\octis\\octis_editbyfr\\octis_py_env\\lib\\site-packages (from torch->octis) (3.4.2)\n",
            "Requirement already satisfied: sympy>=1.13.3 in c:\\users\\feder\\onedrive\\documenti\\fede\\unimib\\tesi\\octis\\octis_editbyfr\\octis_py_env\\lib\\site-packages (from torch->octis) (1.14.0)\n",
            "Requirement already satisfied: mpmath<1.4,>=1.1.0 in c:\\users\\feder\\onedrive\\documenti\\fede\\unimib\\tesi\\octis\\octis_editbyfr\\octis_py_env\\lib\\site-packages (from sympy>=1.13.3->torch->octis) (1.3.0)\n",
            "Requirement already satisfied: tokenizers<0.22,>=0.21 in c:\\users\\feder\\onedrive\\documenti\\fede\\unimib\\tesi\\octis\\octis_editbyfr\\octis_py_env\\lib\\site-packages (from transformers<5.0.0,>=4.41.0->sentence-transformers->octis) (0.21.2)\n",
            "Requirement already satisfied: safetensors>=0.4.3 in c:\\users\\feder\\onedrive\\documenti\\fede\\unimib\\tesi\\octis\\octis_editbyfr\\octis_py_env\\lib\\site-packages (from transformers<5.0.0,>=4.41.0->sentence-transformers->octis) (0.5.3)\n",
            "Requirement already satisfied: spacy-legacy<3.1.0,>=3.0.11 in c:\\users\\feder\\onedrive\\documenti\\fede\\unimib\\tesi\\octis\\octis_editbyfr\\octis_py_env\\lib\\site-packages (from spacy->octis) (3.0.12)\n",
            "Requirement already satisfied: weasel<0.5.0,>=0.1.0 in c:\\users\\feder\\onedrive\\documenti\\fede\\unimib\\tesi\\octis\\octis_editbyfr\\octis_py_env\\lib\\site-packages (from spacy->octis) (0.4.1)\n",
            "Requirement already satisfied: cymem<2.1.0,>=2.0.2 in c:\\users\\feder\\onedrive\\documenti\\fede\\unimib\\tesi\\octis\\octis_editbyfr\\octis_py_env\\lib\\site-packages (from spacy->octis) (2.0.11)\n",
            "Requirement already satisfied: preshed<3.1.0,>=3.0.2 in c:\\users\\feder\\onedrive\\documenti\\fede\\unimib\\tesi\\octis\\octis_editbyfr\\octis_py_env\\lib\\site-packages (from spacy->octis) (3.0.10)\n",
            "Requirement already satisfied: murmurhash<1.1.0,>=0.28.0 in c:\\users\\feder\\onedrive\\documenti\\fede\\unimib\\tesi\\octis\\octis_editbyfr\\octis_py_env\\lib\\site-packages (from spacy->octis) (1.0.13)\n",
            "Requirement already satisfied: setuptools in c:\\users\\feder\\onedrive\\documenti\\fede\\unimib\\tesi\\octis\\octis_editbyfr\\octis_py_env\\lib\\site-packages (from spacy->octis) (58.1.0)\n",
            "Requirement already satisfied: pydantic!=1.8,!=1.8.1,<3.0.0,>=1.7.4 in c:\\users\\feder\\onedrive\\documenti\\fede\\unimib\\tesi\\octis\\octis_editbyfr\\octis_py_env\\lib\\site-packages (from spacy->octis) (2.11.7)\n",
            "Requirement already satisfied: srsly<3.0.0,>=2.4.3 in c:\\users\\feder\\onedrive\\documenti\\fede\\unimib\\tesi\\octis\\octis_editbyfr\\octis_py_env\\lib\\site-packages (from spacy->octis) (2.5.1)\n",
            "Requirement already satisfied: wasabi<1.2.0,>=0.9.1 in c:\\users\\feder\\onedrive\\documenti\\fede\\unimib\\tesi\\octis\\octis_editbyfr\\octis_py_env\\lib\\site-packages (from spacy->octis) (1.1.3)\n",
            "Requirement already satisfied: langcodes<4.0.0,>=3.2.0 in c:\\users\\feder\\onedrive\\documenti\\fede\\unimib\\tesi\\octis\\octis_editbyfr\\octis_py_env\\lib\\site-packages (from spacy->octis) (3.5.0)\n",
            "Requirement already satisfied: thinc<8.4.0,>=8.3.4 in c:\\users\\feder\\onedrive\\documenti\\fede\\unimib\\tesi\\octis\\octis_editbyfr\\octis_py_env\\lib\\site-packages (from spacy->octis) (8.3.4)\n",
            "Requirement already satisfied: catalogue<2.1.0,>=2.0.6 in c:\\users\\feder\\onedrive\\documenti\\fede\\unimib\\tesi\\octis\\octis_editbyfr\\octis_py_env\\lib\\site-packages (from spacy->octis) (2.0.10)\n",
            "Requirement already satisfied: spacy-loggers<2.0.0,>=1.0.0 in c:\\users\\feder\\onedrive\\documenti\\fede\\unimib\\tesi\\octis\\octis_editbyfr\\octis_py_env\\lib\\site-packages (from spacy->octis) (1.0.5)\n",
            "Requirement already satisfied: typer<1.0.0,>=0.3.0 in c:\\users\\feder\\onedrive\\documenti\\fede\\unimib\\tesi\\octis\\octis_editbyfr\\octis_py_env\\lib\\site-packages (from spacy->octis) (0.16.0)\n",
            "Requirement already satisfied: language-data>=1.2 in c:\\users\\feder\\onedrive\\documenti\\fede\\unimib\\tesi\\octis\\octis_editbyfr\\octis_py_env\\lib\\site-packages (from langcodes<4.0.0,>=3.2.0->spacy->octis) (1.3.0)\n",
            "Requirement already satisfied: marisa-trie>=1.1.0 in c:\\users\\feder\\onedrive\\documenti\\fede\\unimib\\tesi\\octis\\octis_editbyfr\\octis_py_env\\lib\\site-packages (from language-data>=1.2->langcodes<4.0.0,>=3.2.0->spacy->octis) (1.2.1)\n",
            "Requirement already satisfied: annotated-types>=0.6.0 in c:\\users\\feder\\onedrive\\documenti\\fede\\unimib\\tesi\\octis\\octis_editbyfr\\octis_py_env\\lib\\site-packages (from pydantic!=1.8,!=1.8.1,<3.0.0,>=1.7.4->spacy->octis) (0.7.0)\n",
            "Requirement already satisfied: typing-inspection>=0.4.0 in c:\\users\\feder\\onedrive\\documenti\\fede\\unimib\\tesi\\octis\\octis_editbyfr\\octis_py_env\\lib\\site-packages (from pydantic!=1.8,!=1.8.1,<3.0.0,>=1.7.4->spacy->octis) (0.4.1)\n",
            "Requirement already satisfied: pydantic-core==2.33.2 in c:\\users\\feder\\onedrive\\documenti\\fede\\unimib\\tesi\\octis\\octis_editbyfr\\octis_py_env\\lib\\site-packages (from pydantic!=1.8,!=1.8.1,<3.0.0,>=1.7.4->spacy->octis) (2.33.2)\n",
            "Requirement already satisfied: confection<1.0.0,>=0.0.1 in c:\\users\\feder\\onedrive\\documenti\\fede\\unimib\\tesi\\octis\\octis_editbyfr\\octis_py_env\\lib\\site-packages (from thinc<8.4.0,>=8.3.4->spacy->octis) (0.1.5)\n",
            "Requirement already satisfied: blis<1.3.0,>=1.2.0 in c:\\users\\feder\\onedrive\\documenti\\fede\\unimib\\tesi\\octis\\octis_editbyfr\\octis_py_env\\lib\\site-packages (from thinc<8.4.0,>=8.3.4->spacy->octis) (1.2.1)\n",
            "Requirement already satisfied: rich>=10.11.0 in c:\\users\\feder\\onedrive\\documenti\\fede\\unimib\\tesi\\octis\\octis_editbyfr\\octis_py_env\\lib\\site-packages (from typer<1.0.0,>=0.3.0->spacy->octis) (14.0.0)\n",
            "Requirement already satisfied: shellingham>=1.3.0 in c:\\users\\feder\\onedrive\\documenti\\fede\\unimib\\tesi\\octis\\octis_editbyfr\\octis_py_env\\lib\\site-packages (from typer<1.0.0,>=0.3.0->spacy->octis) (1.5.4)\n",
            "Requirement already satisfied: markdown-it-py>=2.2.0 in c:\\users\\feder\\onedrive\\documenti\\fede\\unimib\\tesi\\octis\\octis_editbyfr\\octis_py_env\\lib\\site-packages (from rich>=10.11.0->typer<1.0.0,>=0.3.0->spacy->octis) (3.0.0)\n",
            "Requirement already satisfied: pygments<3.0.0,>=2.13.0 in c:\\users\\feder\\onedrive\\documenti\\fede\\unimib\\tesi\\octis\\octis_editbyfr\\octis_py_env\\lib\\site-packages (from rich>=10.11.0->typer<1.0.0,>=0.3.0->spacy->octis) (2.19.2)\n",
            "Requirement already satisfied: mdurl~=0.1 in c:\\users\\feder\\onedrive\\documenti\\fede\\unimib\\tesi\\octis\\octis_editbyfr\\octis_py_env\\lib\\site-packages (from markdown-it-py>=2.2.0->rich>=10.11.0->typer<1.0.0,>=0.3.0->spacy->octis) (0.1.2)\n",
            "Requirement already satisfied: cloudpathlib<1.0.0,>=0.7.0 in c:\\users\\feder\\onedrive\\documenti\\fede\\unimib\\tesi\\octis\\octis_editbyfr\\octis_py_env\\lib\\site-packages (from weasel<0.5.0,>=0.1.0->spacy->octis) (0.21.1)\n",
            "Installing collected packages: octis\n",
            "Successfully installed octis-1.14.0\n"
          ]
        }
      ],
      "source": [
        "!pip install octis"
      ]
    },
    {
      "cell_type": "markdown",
      "metadata": {
        "id": "TGi97q6Pj1iL"
      },
      "source": [
        "Let's import what we need. "
      ]
    },
    {
      "cell_type": "code",
      "execution_count": 1,
      "metadata": {
        "id": "xgmokdyEiRlV"
      },
      "outputs": [],
      "source": [
        "from octis.models.LDA import LDA\n",
        "from octis.dataset.dataset import Dataset\n",
        "from octis.evaluation_metrics.diversity_metrics import TopicDiversity\n",
        "from octis.evaluation_metrics.coherence_metrics import Coherence"
      ]
    },
    {
      "cell_type": "markdown",
      "metadata": {
        "id": "nJWNy-ulj-H7"
      },
      "source": [
        "We need some data to run a topic model. OCTIS already provides 4 already-preprocessed datasets. Let's use one of them."
      ]
    },
    {
      "cell_type": "code",
      "execution_count": 2,
      "metadata": {
        "id": "Zv05olCwiRlW",
        "pycharm": {
          "name": "#%%\n"
        }
      },
      "outputs": [],
      "source": [
        "# Define dataset\n",
        "dataset = Dataset()\n",
        "dataset.fetch_dataset(\"20NewsGroup\")"
      ]
    },
    {
      "cell_type": "markdown",
      "metadata": {
        "id": "LaAAPx1kkdWB"
      },
      "source": [
        "And now we need a model. We are going to use LDA because it is the most well-known, but OCTIS integrates other 8 topic model (including neural topic models!). \n",
        "\n",
        "We are going to set the number of topics to 20 and the hyperparameter alpha to 0.1. If you have no idea how to set your hyperparameters, you should definitely use OCTIS's optimization module. See this other tutorial for the optimization of hyperparameters: (link)"
      ]
    },
    {
      "cell_type": "code",
      "execution_count": 3,
      "metadata": {
        "id": "CC5N5nLBiRlW",
        "pycharm": {
          "name": "#%%\n"
        }
      },
      "outputs": [],
      "source": [
        "# Create Model\n",
        "model = LDA(num_topics=20, alpha=0.1)"
      ]
    },
    {
      "cell_type": "markdown",
      "metadata": {
        "id": "ky2sTIyIlO28"
      },
      "source": [
        "Now we're ready to train it. See that the output of a topic model comes as a dictionary composed of 4 elements:\n",
        "\n",
        "\n",
        "*   *topics*: the list of word topics\n",
        "*   *topic-word-matrix*: the distribution of the words of the vocabulary for each topic (dimensions: |num topics| x |vocabulary|)\n",
        "*   *topic-document-matrix*: the distribution of the topics for each document of the training set (dimensions: |num topics| x |training documents|)\n",
        "*   *test-document-topic-matrix*: the distribution of the topics for each document of the testing set (dimensions: |num topics| x |test documents|)\n",
        "\n"
      ]
    },
    {
      "cell_type": "code",
      "execution_count": 4,
      "metadata": {
        "colab": {
          "base_uri": "https://localhost:8080/"
        },
        "id": "R_mboM91iRlX",
        "outputId": "46826a8e-613d-401d-b211-54b54512dcad"
      },
      "outputs": [
        {
          "name": "stdout",
          "output_type": "stream",
          "text": [
            "topic-word-matrix\n",
            "topics\n",
            "topic-document-matrix\n",
            "test-topic-document-matrix\n"
          ]
        }
      ],
      "source": [
        "# Train the model using default partitioning choice \n",
        "output = model.train_model(dataset)\n",
        "\n",
        "print(*list(output.keys()), sep=\"\\n\") # Print the output identifiers"
      ]
    },
    {
      "cell_type": "code",
      "execution_count": 27,
      "metadata": {},
      "outputs": [
        {
          "name": "stdout",
          "output_type": "stream",
          "text": [
            "oggetti nell'output: \n",
            " dict_keys(['topic-word-matrix', 'topics', 'topic-document-matrix', 'test-topic-document-matrix']) \n",
            " topic contents: \n",
            " 20 \n",
            " 10 \n",
            " ['chip', 'launch', 'encryption', 'key', 'clipper', 'system', 'phone', 'government', 'space', 'technology'] \n",
            " topic word matrix content: \n",
            " <class 'numpy.ndarray'> \n",
            " (20, 1612) \n",
            " (1612,) \n",
            " [1.3149755e-04 7.0876325e-04 1.1687994e-03 ... 1.7015223e-06 1.2614160e-05\n",
            " 2.1259667e-04] \n",
            " [1.3149755e-04 7.0876325e-04 1.1687994e-03 1.9049755e-03 1.4142671e-03\n",
            " 8.2880119e-04 2.8464169e-04 9.7310147e-04 1.1821539e-04 7.1063907e-05] \n",
            " topic-document-matrix \n",
            " <class 'numpy.ndarray'> \n",
            " (20, 11415) \n",
            " (11415,) \n",
            " [0.01250086 0.00227321 0.01250148 0.0029421  0.00526474 0.00263269\n",
            " 0.00088532 0.00384719 0.00169553] \n",
            " test-topic-document-matrix \n",
            " <class 'numpy.ndarray'> \n",
            " (20, 2447) \n",
            " (2447,) \n",
            " DescribeResult(nobs=99, minmax=(0.0, 0.6736658215522766), mean=0.021899297767591596, variance=0.007183942437923547, skewness=5.506752069358881, kurtosis=35.32417930145847) \n",
            "\n"
          ]
        }
      ],
      "source": [
        "from scipy import stats\n",
        "\n",
        "#(output['topics'][0]) # Print the words inside the first topic\n",
        "#type(output)\n",
        "print(\n",
        "'oggetti nell\\'output: \\n',\n",
        "output.keys(), '\\n',# Print the keys of the output dictionary\n",
        "'topic contents: \\n',\n",
        "len(output['topics']), '\\n', # Print the number of topics\n",
        "len(output['topics'][0]), '\\n', # Print the number of words in the first\n",
        "output['topics'][0], '\\n', # Print the words in the first topic \n",
        "'topic word matrix content: \\n',\n",
        "type(output['topic-word-matrix']), '\\n',\n",
        "output['topic-word-matrix'].shape, '\\n', # Print the shape of the topic-word matrix\n",
        "output['topic-word-matrix'][0].shape, '\\n', # Print the shape of the first topic-word vector\n",
        "output['topic-word-matrix'][0], '\\n', # Print the first topic-word vector   \n",
        "output['topic-word-matrix'][0][0:10], '\\n', # Print the first 10 elements of the first topic-word vector\n",
        "'topic-document-matrix', '\\n',\n",
        "type(output['topic-document-matrix']), '\\n',\n",
        "output['topic-document-matrix'].shape, '\\n', # Print the shape of the topic-document matrix\n",
        "output['topic-document-matrix'][0].shape, '\\n', # Print the shape of\n",
        "output['topic-document-matrix'][0][1:10], '\\n', # Print the first 10 elements of the first topic-document vector\n",
        "'test-topic-document-matrix', '\\n', \n",
        "type(output['test-topic-document-matrix']),\n",
        "'\\n',\n",
        "output['test-topic-document-matrix'].shape, '\\n', # Print the shape of the\n",
        "output['test-topic-document-matrix'][0].shape, '\\n', # Print the shape of the first test topic-document vector\n",
        "stats.describe(output['test-topic-document-matrix'][0][1:100]), '\\n', # Print\n",
        ")"
      ]
    },
    {
      "cell_type": "markdown",
      "metadata": {
        "id": "N3OIsmNjqY1m"
      },
      "source": [
        "For  examples, these are a sample of 5 topics. Do you think they make sense?"
      ]
    },
    {
      "cell_type": "code",
      "execution_count": 5,
      "metadata": {
        "colab": {
          "base_uri": "https://localhost:8080/"
        },
        "id": "k9PIWegniRlY",
        "outputId": "741363e3-3048-4f6a-f659-32a2ca0a87f4",
        "pycharm": {
          "name": "#%%\n"
        }
      },
      "outputs": [
        {
          "name": "stdout",
          "output_type": "stream",
          "text": [
            "chip launch encryption key clipper system phone government space technology\n",
            "agent batf audio cpu channel radio power switch define police\n",
            "gun weapon firearm law criminal control issue police carry officer\n",
            "drive keyboard speed car driver back work test month good\n",
            "key bit block book number time serial battery encrypt temperature\n"
          ]
        }
      ],
      "source": [
        "for t in output['topics'][:5]:\n",
        "  print(\" \".join(t))"
      ]
    },
    {
      "cell_type": "markdown",
      "metadata": {
        "id": "oogVvO9jq4UZ"
      },
      "source": [
        "To check if the topics are coherent, we can use a topic coherence measure. The most used one is NPMI and it is available in OCTIS. We are going to use the dataset itself to compute it. "
      ]
    },
    {
      "cell_type": "code",
      "execution_count": 36,
      "metadata": {
        "id": "e8uXU4_hrE3G"
      },
      "outputs": [
        {
          "data": {
            "text/plain": [
              "octis.evaluation_metrics.coherence_metrics.Coherence"
            ]
          },
          "execution_count": 36,
          "metadata": {},
          "output_type": "execute_result"
        }
      ],
      "source": [
        "# Initialize metric\n",
        "npmi = Coherence(texts=dataset.get_corpus(), topk=10, measure='c_npmi')\n",
        "type(npmi)"
      ]
    },
    {
      "cell_type": "code",
      "execution_count": 38,
      "metadata": {},
      "outputs": [
        {
          "data": {
            "text/plain": [
              "['topk', 'processes', 'measure']"
            ]
          },
          "execution_count": 38,
          "metadata": {},
          "output_type": "execute_result"
        }
      ],
      "source": [
        "def getattrnames(obj):\n",
        "  try:\n",
        "    names = obj.__dict__.keys()\n",
        "  except:\n",
        "    try:\n",
        "      names = dir(obj)\n",
        "    except:\n",
        "      try:\n",
        "        names = vars(obj).keys()\n",
        "      except:\n",
        "        print('names stored in a strange way')\n",
        "        names = None\n",
        "  names = [name for name in names if not name.startswith('_')]\n",
        "  return names\n",
        "\n",
        "getattrnames(npmi)"
      ]
    },
    {
      "cell_type": "markdown",
      "metadata": {
        "id": "8Itz2zvHmGVe"
      },
      "source": [
        "Or we can test if the resulting topics are different from each other. The `TopicDiversity` measure computes the number of unique words in the top-words of the resulting topics. \n",
        "\n"
      ]
    },
    {
      "cell_type": "code",
      "execution_count": 39,
      "metadata": {
        "id": "LY5ifLhriRlY",
        "pycharm": {
          "name": "#%%\n"
        }
      },
      "outputs": [
        {
          "data": {
            "text/plain": [
              "['topk']"
            ]
          },
          "execution_count": 39,
          "metadata": {},
          "output_type": "execute_result"
        }
      ],
      "source": [
        "# Initialize metric\n",
        "topic_diversity = TopicDiversity(topk=10)\n",
        "getattrnames(topic_diversity)"
      ]
    },
    {
      "cell_type": "markdown",
      "metadata": {
        "id": "o-fpDuLCoC5P"
      },
      "source": [
        "And with the method `score`, we can get their actual evaluation score. Just use the output of the topic model as input of the method."
      ]
    },
    {
      "cell_type": "code",
      "execution_count": 8,
      "metadata": {
        "colab": {
          "base_uri": "https://localhost:8080/"
        },
        "id": "7dCL2fAOiRlZ",
        "outputId": "3c2cb1a5-f431-4d07-9a7c-8fe8e9ebd19f"
      },
      "outputs": [
        {
          "name": "stdout",
          "output_type": "stream",
          "text": [
            "Topic diversity: 0.7\n",
            "Coherence: 0.049008584754555204\n"
          ]
        }
      ],
      "source": [
        "# Retrieve metrics score\n",
        "topic_diversity_score = topic_diversity.score(output)\n",
        "print(\"Topic diversity: \"+str(topic_diversity_score))\n",
        "\n",
        "npmi_score = npmi.score(output)\n",
        "print(\"Coherence: \"+str(npmi_score))"
      ]
    }
  ],
  "metadata": {
    "colab": {
      "name": "LDA_training_only.ipynb",
      "provenance": []
    },
    "kernelspec": {
      "display_name": "OCTIS_py_env",
      "language": "python",
      "name": "python3"
    },
    "language_info": {
      "codemirror_mode": {
        "name": "ipython",
        "version": 3
      },
      "file_extension": ".py",
      "mimetype": "text/x-python",
      "name": "python",
      "nbconvert_exporter": "python",
      "pygments_lexer": "ipython3",
      "version": "3.10.1"
    }
  },
  "nbformat": 4,
  "nbformat_minor": 0
}
